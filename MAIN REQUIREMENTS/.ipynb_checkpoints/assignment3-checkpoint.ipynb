{
 "cells": [
  {
   "cell_type": "markdown",
   "id": "023897be",
   "metadata": {},
   "source": [
    "# CLASSIFICATION\n",
    "\n",
    "**Data Description**: The dataset 'incident_event_log.csv' This is an event log of an incident management process extracted from data gathered from the audit system of an instance of the ServiceNowTM platform used by an IT company. For example,  incident identifiers, states, timelines, involved personnel, impact, and final outcomes. This dataset contains both categorical and numerical data, demonstrates view of the incident lifecycle.\n",
    "\n",
    "**Domain**: Focusing on Incident management.  It has to deal with tunplanned interruptions or reductions in quality of IT services.\n",
    "\n",
    "**Attribute Information**\n",
    "* 1. **`number`**: incident identifier (24,918 different values)\n",
    "* 2. **`incident state`**: eight levels controlling the incident management process transitions from opening until closing the case;\n",
    "* 3.  **`active`**: boolean attribute that shows whether the record is active or closed/canceled;\n",
    "* 4.  **`reassignment_count`**: number of times the incident has the group or the support analysts changed;\n",
    "* 5.  **`reopen_count`**: number of times the incident resolution was rejected by the caller;\n",
    "* 6.  **`sys_mod_count`**: number of incident updates until that moment;\n",
    "* 7.  **`made_sla`**: boolean attribute that shows whether the incident exceeded the target SLA;\n",
    "* 8.  **`caller_id`**: identifier of the user affected;\n",
    "* 9.  **`opened_by`**: identifier of the user who reported the incident;\n",
    "* 10. **`opened_at`**: incident user opening date and time;\n",
    "* 11. **`sys_created_by`**: identifier of the user who registered the incident;\n",
    "* 12. **`sys_created_at`**: incident system creation date and time;\n",
    "* 13. **`sys_updated_by`**: identifier of the user who updated the incident and generated the current log record;\n",
    "* 14. **`sys_updated_at`**: incident system update date and time;\n",
    "* 15. **`contact_type`**: categorical attribute that shows by what means the incident was reported;\n",
    "* 16. **`location`**: identifier of the location of the place affected;\n",
    "* 17. **`category`**: first-level description of the affected service;\n",
    "* 18. **`subcategory`**: second-level description of the affected service (related to the first level description, i.e., to category);\n",
    "* 19. **`u_symptom`**: description of the user perception about service availability;\n",
    "* 20. **`cmdb_ci`**: (confirmation item) identifier used to report the affected item (not mandatory);\n",
    "* 21. **`impact`**: description of the impact caused by the incident (values: 1â€“High; 2â€“Medium; 3â€“Low);\n",
    "* 22. **`urgency`**: description of the urgency informed by the user for the incident resolution (values: 1â€“High; 2â€“Medium; 3â€“Low);\n",
    "* 23. **`priority`**: calculated by the system based on 'impact' and 'urgency';\n",
    "* 24. **`assignment_group`**: identifier of the support group in charge of the incident;\n",
    "* 25. **`assigned_to`**: identifier of the user in charge of the incident;\n",
    "* 26. **`knowledge`**: boolean attribute that shows whether a knowledge base document was used to resolve the incident;\n",
    "* 27. **`u_priority_confirmation`**: boolean attribute that shows whether the priority field has been double-checked;\n",
    "* 28. **`notify`**: categorical attribute that shows whether notifications were generated for the incident;\n",
    "* 29. **`problem_id`**: identifier of the problem associated with the incident;\n",
    "* 30. **`rfc`**: (request for change) identifier of the change request associated with the incident;\n",
    "* 31. **`vendor`**: identifier of the vendor in charge of the incident;\n",
    "* 32. **`caused_by`**: identifier of the RFC responsible by the incident;\n",
    "* 33. **`close_code`**: identifier of the resolution of the incident;\n",
    "* 34. **`resolved_by`**: identifier of the user who resolved the incident;\n",
    "* 35. **`resolved_at`**: incident user resolution date and time (dependent variable);\n",
    "* 36. **`closed_at`**: incident user close date and time (dependent variable).\n",
    "\n",
    "**Learning Outcomes**\n",
    "* Exploratory Data Analysis (EDA)\n",
    "* Feature Engineering and Selection\n",
    "* Classification Modeling\n",
    "* Clustering Analysis\n",
    "* Model Comparison and Evaluation\n",
    "* Innovative Modeling Techniques"
   ]
  },
  {
   "cell_type": "markdown",
   "id": "c201c0dc",
   "metadata": {},
   "source": [
    "### INSTALLING NECCESSARY PACKAGES FOR THIS PROJECT"
   ]
  },
  {
   "cell_type": "code",
   "execution_count": 1,
   "id": "837fcae1",
   "metadata": {},
   "outputs": [
    {
     "name": "stdout",
     "output_type": "stream",
     "text": [
      "Requirement already satisfied: imbalanced-learn in /Users/erictran/miniforge3/lib/python3.9/site-packages (0.11.0)\n",
      "Requirement already satisfied: scipy>=1.5.0 in /Users/erictran/miniforge3/lib/python3.9/site-packages (from imbalanced-learn) (1.10.1)\n",
      "Requirement already satisfied: threadpoolctl>=2.0.0 in /Users/erictran/miniforge3/lib/python3.9/site-packages (from imbalanced-learn) (3.1.0)\n",
      "Requirement already satisfied: scikit-learn>=1.0.2 in /Users/erictran/miniforge3/lib/python3.9/site-packages (from imbalanced-learn) (1.2.2)\n",
      "Requirement already satisfied: numpy>=1.17.3 in /Users/erictran/miniforge3/lib/python3.9/site-packages (from imbalanced-learn) (1.21.6)\n",
      "Requirement already satisfied: joblib>=1.1.1 in /Users/erictran/miniforge3/lib/python3.9/site-packages (from imbalanced-learn) (1.2.0)\n"
     ]
    }
   ],
   "source": [
    "!pip install -U imbalanced-learn\n",
    "\n",
    "# Importing packages - Pandas, Numpy, Seaborn, Scipy\n",
    "import pandas as pd, numpy as np, matplotlib.pyplot as plt, seaborn as sns, sys\n",
    "import matplotlib.style as style; style.use('fivethirtyeight')\n",
    "from scipy.stats import zscore, norm\n",
    "\n",
    "np.random.seed(0)\n",
    "\n",
    "# Modelling - LR, KNN, NB, Metrics\n",
    "from sklearn.metrics import classification_report, confusion_matrix, roc_auc_score, roc_curve, accuracy_score\n",
    "from sklearn.model_selection import train_test_split, GridSearchCV, StratifiedKFold\n",
    "from sklearn.linear_model import LogisticRegression\n",
    "from sklearn.neighbors import KNeighborsClassifier\n",
    "from sklearn.preprocessing import LabelEncoder\n",
    "from sklearn.ensemble import StackingClassifier\n",
    "\n",
    "# Import necessary libraries for regression\n",
    "from sklearn.tree import DecisionTreeRegressor\n",
    "from sklearn.feature_selection import RFE\n",
    "\n",
    "# Oversampling\n",
    "from imblearn.over_sampling import SMOTE\n",
    "\n",
    "# Seaborn \n",
    "import seaborn as sns\n",
    "\n",
    "# Cluster Modelling \n",
    "from sklearn.preprocessing import StandardScaler\n",
    "from sklearn.cluster import KMeans\n",
    "import matplotlib.pyplot as plt\n",
    "from sklearn.metrics import silhouette_score\n",
    "from sklearn.cluster import AgglomerativeClustering\n",
    "\n",
    "# Innovative Model\n",
    "# Import necessary libraries\n",
    "from sklearn.ensemble import RandomForestClassifier, GradientBoostingClassifier\n",
    "from sklearn.svm import SVC\n",
    "from sklearn.preprocessing import PolynomialFeatures\n",
    "from sklearn.pipeline import make_pipeline\n",
    "\n",
    "# Suppress warnings\n",
    "import warnings; warnings.filterwarnings('ignore')\n",
    "pd.options.display.max_rows = 4000"
   ]
  },
  {
   "cell_type": "markdown",
   "id": "10bc958d",
   "metadata": {},
   "source": [
    "## Task 1: Retrieving and Preparing the Data"
   ]
  },
  {
   "cell_type": "code",
   "execution_count": 2,
   "id": "8f34bc17",
   "metadata": {
    "scrolled": true
   },
   "outputs": [
    {
     "data": {
      "text/html": [
       "<div>\n",
       "<style scoped>\n",
       "    .dataframe tbody tr th:only-of-type {\n",
       "        vertical-align: middle;\n",
       "    }\n",
       "\n",
       "    .dataframe tbody tr th {\n",
       "        vertical-align: top;\n",
       "    }\n",
       "\n",
       "    .dataframe thead th {\n",
       "        text-align: right;\n",
       "    }\n",
       "</style>\n",
       "<table border=\"1\" class=\"dataframe\">\n",
       "  <thead>\n",
       "    <tr style=\"text-align: right;\">\n",
       "      <th></th>\n",
       "      <th>number</th>\n",
       "      <th>incident_state</th>\n",
       "      <th>active</th>\n",
       "      <th>reassignment_count</th>\n",
       "      <th>reopen_count</th>\n",
       "      <th>sys_mod_count</th>\n",
       "      <th>made_sla</th>\n",
       "      <th>caller_id</th>\n",
       "      <th>opened_by</th>\n",
       "      <th>opened_at</th>\n",
       "      <th>...</th>\n",
       "      <th>u_priority_confirmation</th>\n",
       "      <th>notify</th>\n",
       "      <th>problem_id</th>\n",
       "      <th>rfc</th>\n",
       "      <th>vendor</th>\n",
       "      <th>caused_by</th>\n",
       "      <th>closed_code</th>\n",
       "      <th>resolved_by</th>\n",
       "      <th>resolved_at</th>\n",
       "      <th>closed_at</th>\n",
       "    </tr>\n",
       "  </thead>\n",
       "  <tbody>\n",
       "    <tr>\n",
       "      <th>0</th>\n",
       "      <td>INC0000045</td>\n",
       "      <td>New</td>\n",
       "      <td>True</td>\n",
       "      <td>0</td>\n",
       "      <td>0</td>\n",
       "      <td>0</td>\n",
       "      <td>True</td>\n",
       "      <td>Caller 2403</td>\n",
       "      <td>Opened by  8</td>\n",
       "      <td>29/2/2016 01:16</td>\n",
       "      <td>...</td>\n",
       "      <td>False</td>\n",
       "      <td>Do Not Notify</td>\n",
       "      <td>?</td>\n",
       "      <td>?</td>\n",
       "      <td>?</td>\n",
       "      <td>?</td>\n",
       "      <td>code 5</td>\n",
       "      <td>Resolved by 149</td>\n",
       "      <td>29/2/2016 11:29</td>\n",
       "      <td>5/3/2016 12:00</td>\n",
       "    </tr>\n",
       "    <tr>\n",
       "      <th>1</th>\n",
       "      <td>INC0000045</td>\n",
       "      <td>Resolved</td>\n",
       "      <td>True</td>\n",
       "      <td>0</td>\n",
       "      <td>0</td>\n",
       "      <td>2</td>\n",
       "      <td>True</td>\n",
       "      <td>Caller 2403</td>\n",
       "      <td>Opened by  8</td>\n",
       "      <td>29/2/2016 01:16</td>\n",
       "      <td>...</td>\n",
       "      <td>False</td>\n",
       "      <td>Do Not Notify</td>\n",
       "      <td>?</td>\n",
       "      <td>?</td>\n",
       "      <td>?</td>\n",
       "      <td>?</td>\n",
       "      <td>code 5</td>\n",
       "      <td>Resolved by 149</td>\n",
       "      <td>29/2/2016 11:29</td>\n",
       "      <td>5/3/2016 12:00</td>\n",
       "    </tr>\n",
       "    <tr>\n",
       "      <th>2</th>\n",
       "      <td>INC0000045</td>\n",
       "      <td>Resolved</td>\n",
       "      <td>True</td>\n",
       "      <td>0</td>\n",
       "      <td>0</td>\n",
       "      <td>3</td>\n",
       "      <td>True</td>\n",
       "      <td>Caller 2403</td>\n",
       "      <td>Opened by  8</td>\n",
       "      <td>29/2/2016 01:16</td>\n",
       "      <td>...</td>\n",
       "      <td>False</td>\n",
       "      <td>Do Not Notify</td>\n",
       "      <td>?</td>\n",
       "      <td>?</td>\n",
       "      <td>?</td>\n",
       "      <td>?</td>\n",
       "      <td>code 5</td>\n",
       "      <td>Resolved by 149</td>\n",
       "      <td>29/2/2016 11:29</td>\n",
       "      <td>5/3/2016 12:00</td>\n",
       "    </tr>\n",
       "    <tr>\n",
       "      <th>3</th>\n",
       "      <td>INC0000045</td>\n",
       "      <td>Closed</td>\n",
       "      <td>False</td>\n",
       "      <td>0</td>\n",
       "      <td>0</td>\n",
       "      <td>4</td>\n",
       "      <td>True</td>\n",
       "      <td>Caller 2403</td>\n",
       "      <td>Opened by  8</td>\n",
       "      <td>29/2/2016 01:16</td>\n",
       "      <td>...</td>\n",
       "      <td>False</td>\n",
       "      <td>Do Not Notify</td>\n",
       "      <td>?</td>\n",
       "      <td>?</td>\n",
       "      <td>?</td>\n",
       "      <td>?</td>\n",
       "      <td>code 5</td>\n",
       "      <td>Resolved by 149</td>\n",
       "      <td>29/2/2016 11:29</td>\n",
       "      <td>5/3/2016 12:00</td>\n",
       "    </tr>\n",
       "    <tr>\n",
       "      <th>4</th>\n",
       "      <td>INC0000047</td>\n",
       "      <td>New</td>\n",
       "      <td>True</td>\n",
       "      <td>0</td>\n",
       "      <td>0</td>\n",
       "      <td>0</td>\n",
       "      <td>True</td>\n",
       "      <td>Caller 2403</td>\n",
       "      <td>Opened by  397</td>\n",
       "      <td>29/2/2016 04:40</td>\n",
       "      <td>...</td>\n",
       "      <td>False</td>\n",
       "      <td>Do Not Notify</td>\n",
       "      <td>?</td>\n",
       "      <td>?</td>\n",
       "      <td>?</td>\n",
       "      <td>?</td>\n",
       "      <td>code 5</td>\n",
       "      <td>Resolved by 81</td>\n",
       "      <td>1/3/2016 09:52</td>\n",
       "      <td>6/3/2016 10:00</td>\n",
       "    </tr>\n",
       "  </tbody>\n",
       "</table>\n",
       "<p>5 rows × 36 columns</p>\n",
       "</div>"
      ],
      "text/plain": [
       "       number incident_state  active  reassignment_count  reopen_count   \n",
       "0  INC0000045            New    True                   0             0  \\\n",
       "1  INC0000045       Resolved    True                   0             0   \n",
       "2  INC0000045       Resolved    True                   0             0   \n",
       "3  INC0000045         Closed   False                   0             0   \n",
       "4  INC0000047            New    True                   0             0   \n",
       "\n",
       "   sys_mod_count  made_sla    caller_id       opened_by        opened_at  ...   \n",
       "0              0      True  Caller 2403    Opened by  8  29/2/2016 01:16  ...  \\\n",
       "1              2      True  Caller 2403    Opened by  8  29/2/2016 01:16  ...   \n",
       "2              3      True  Caller 2403    Opened by  8  29/2/2016 01:16  ...   \n",
       "3              4      True  Caller 2403    Opened by  8  29/2/2016 01:16  ...   \n",
       "4              0      True  Caller 2403  Opened by  397  29/2/2016 04:40  ...   \n",
       "\n",
       "  u_priority_confirmation         notify problem_id rfc vendor caused_by   \n",
       "0                   False  Do Not Notify          ?   ?      ?         ?  \\\n",
       "1                   False  Do Not Notify          ?   ?      ?         ?   \n",
       "2                   False  Do Not Notify          ?   ?      ?         ?   \n",
       "3                   False  Do Not Notify          ?   ?      ?         ?   \n",
       "4                   False  Do Not Notify          ?   ?      ?         ?   \n",
       "\n",
       "  closed_code      resolved_by      resolved_at       closed_at  \n",
       "0      code 5  Resolved by 149  29/2/2016 11:29  5/3/2016 12:00  \n",
       "1      code 5  Resolved by 149  29/2/2016 11:29  5/3/2016 12:00  \n",
       "2      code 5  Resolved by 149  29/2/2016 11:29  5/3/2016 12:00  \n",
       "3      code 5  Resolved by 149  29/2/2016 11:29  5/3/2016 12:00  \n",
       "4      code 5   Resolved by 81   1/3/2016 09:52  6/3/2016 10:00  \n",
       "\n",
       "[5 rows x 36 columns]"
      ]
     },
     "execution_count": 2,
     "metadata": {},
     "output_type": "execute_result"
    }
   ],
   "source": [
    "# Data Retrieval\n",
    "# Load the dataset\n",
    "incident_data = pd.read_csv('incident_event_log.csv')\n",
    "incident_data.head()"
   ]
  },
  {
   "cell_type": "markdown",
   "id": "d599fa27",
   "metadata": {},
   "source": [
    "#### Observation 1 - Checking for missing values, including '?' and replacing them\n",
    "Checking for missing values represented as '?' and replacing them"
   ]
  },
  {
   "cell_type": "code",
   "execution_count": 3,
   "id": "514ed1d0",
   "metadata": {},
   "outputs": [
    {
     "name": "stdout",
     "output_type": "stream",
     "text": [
      "Dataset shape:             number incident_state  active  reassignment_count  reopen_count   \n",
      "0       INC0000045            New    True                   0             0  \\\n",
      "1       INC0000045       Resolved    True                   0             0   \n",
      "2       INC0000045       Resolved    True                   0             0   \n",
      "3       INC0000045         Closed   False                   0             0   \n",
      "4       INC0000047            New    True                   0             0   \n",
      "...            ...            ...     ...                 ...           ...   \n",
      "141707  INC0120835         Closed   False                   1             0   \n",
      "141708  INC0121064         Active    True                   0             0   \n",
      "141709  INC0121064         Active    True                   1             0   \n",
      "141710  INC0121064       Resolved    True                   1             0   \n",
      "141711  INC0121064         Closed   False                   1             0   \n",
      "\n",
      "        sys_mod_count  made_sla    caller_id       opened_by        opened_at   \n",
      "0                   0      True  Caller 2403    Opened by  8  29/2/2016 01:16  \\\n",
      "1                   2      True  Caller 2403    Opened by  8  29/2/2016 01:16   \n",
      "2                   3      True  Caller 2403    Opened by  8  29/2/2016 01:16   \n",
      "3                   4      True  Caller 2403    Opened by  8  29/2/2016 01:16   \n",
      "4                   0      True  Caller 2403  Opened by  397  29/2/2016 04:40   \n",
      "...               ...       ...          ...             ...              ...   \n",
      "141707              4      True   Caller 116   Opened by  12  16/2/2017 09:09   \n",
      "141708              0      True   Caller 116   Opened by  12  16/2/2017 14:17   \n",
      "141709              1      True   Caller 116   Opened by  12  16/2/2017 14:17   \n",
      "141710              2      True   Caller 116   Opened by  12  16/2/2017 14:17   \n",
      "141711              3      True   Caller 116   Opened by  12  16/2/2017 14:17   \n",
      "\n",
      "        ... u_priority_confirmation         notify problem_id rfc vendor   \n",
      "0       ...                   False  Do Not Notify          ?   ?      ?  \\\n",
      "1       ...                   False  Do Not Notify          ?   ?      ?   \n",
      "2       ...                   False  Do Not Notify          ?   ?      ?   \n",
      "3       ...                   False  Do Not Notify          ?   ?      ?   \n",
      "4       ...                   False  Do Not Notify          ?   ?      ?   \n",
      "...     ...                     ...            ...        ...  ..    ...   \n",
      "141707  ...                    True  Do Not Notify          ?   ?      ?   \n",
      "141708  ...                   False  Do Not Notify          ?   ?      ?   \n",
      "141709  ...                   False  Do Not Notify          ?   ?      ?   \n",
      "141710  ...                    True  Do Not Notify          ?   ?      ?   \n",
      "141711  ...                    True  Do Not Notify          ?   ?      ?   \n",
      "\n",
      "       caused_by closed_code      resolved_by      resolved_at   \n",
      "0              ?      code 5  Resolved by 149  29/2/2016 11:29  \\\n",
      "1              ?      code 5  Resolved by 149  29/2/2016 11:29   \n",
      "2              ?      code 5  Resolved by 149  29/2/2016 11:29   \n",
      "3              ?      code 5  Resolved by 149  29/2/2016 11:29   \n",
      "4              ?      code 5   Resolved by 81   1/3/2016 09:52   \n",
      "...          ...         ...              ...              ...   \n",
      "141707         ?      code 9    Resolved by 9  16/2/2017 09:53   \n",
      "141708         ?      code 6    Resolved by 9  16/2/2017 16:38   \n",
      "141709         ?      code 6    Resolved by 9  16/2/2017 16:38   \n",
      "141710         ?      code 6    Resolved by 9  16/2/2017 16:38   \n",
      "141711         ?      code 6    Resolved by 9  16/2/2017 16:38   \n",
      "\n",
      "              closed_at  \n",
      "0        5/3/2016 12:00  \n",
      "1        5/3/2016 12:00  \n",
      "2        5/3/2016 12:00  \n",
      "3        5/3/2016 12:00  \n",
      "4        6/3/2016 10:00  \n",
      "...                 ...  \n",
      "141707  16/2/2017 09:53  \n",
      "141708  16/2/2017 16:38  \n",
      "141709  16/2/2017 16:38  \n",
      "141710  16/2/2017 16:38  \n",
      "141711  16/2/2017 16:38  \n",
      "\n",
      "[141712 rows x 36 columns]\n"
     ]
    }
   ],
   "source": [
    "# Preliminary Data Exploration\n",
    "# Checking the shape of the dataset\n",
    "print(\"Dataset shape:\", incident_data)"
   ]
  },
  {
   "cell_type": "code",
   "execution_count": 4,
   "id": "891b697f",
   "metadata": {},
   "outputs": [
    {
     "name": "stdout",
     "output_type": "stream",
     "text": [
      "<class 'pandas.core.frame.DataFrame'>\n",
      "RangeIndex: 141712 entries, 0 to 141711\n",
      "Data columns (total 36 columns):\n",
      " #   Column                   Non-Null Count   Dtype \n",
      "---  ------                   --------------   ----- \n",
      " 0   number                   141712 non-null  object\n",
      " 1   incident_state           141712 non-null  object\n",
      " 2   active                   141712 non-null  bool  \n",
      " 3   reassignment_count       141712 non-null  int64 \n",
      " 4   reopen_count             141712 non-null  int64 \n",
      " 5   sys_mod_count            141712 non-null  int64 \n",
      " 6   made_sla                 141712 non-null  bool  \n",
      " 7   caller_id                141712 non-null  object\n",
      " 8   opened_by                141712 non-null  object\n",
      " 9   opened_at                141712 non-null  object\n",
      " 10  sys_created_by           141712 non-null  object\n",
      " 11  sys_created_at           141712 non-null  object\n",
      " 12  sys_updated_by           141712 non-null  object\n",
      " 13  sys_updated_at           141712 non-null  object\n",
      " 14  contact_type             141712 non-null  object\n",
      " 15  location                 141712 non-null  object\n",
      " 16  category                 141712 non-null  object\n",
      " 17  subcategory              141712 non-null  object\n",
      " 18  u_symptom                141712 non-null  object\n",
      " 19  cmdb_ci                  141712 non-null  object\n",
      " 20  impact                   141712 non-null  object\n",
      " 21  urgency                  141712 non-null  object\n",
      " 22  priority                 141712 non-null  object\n",
      " 23  assignment_group         141712 non-null  object\n",
      " 24  assigned_to              141712 non-null  object\n",
      " 25  knowledge                141712 non-null  bool  \n",
      " 26  u_priority_confirmation  141712 non-null  bool  \n",
      " 27  notify                   141712 non-null  object\n",
      " 28  problem_id               141712 non-null  object\n",
      " 29  rfc                      141712 non-null  object\n",
      " 30  vendor                   141712 non-null  object\n",
      " 31  caused_by                141712 non-null  object\n",
      " 32  closed_code              141712 non-null  object\n",
      " 33  resolved_by              141712 non-null  object\n",
      " 34  resolved_at              141712 non-null  object\n",
      " 35  closed_at                141712 non-null  object\n",
      "dtypes: bool(4), int64(3), object(29)\n",
      "memory usage: 35.1+ MB\n",
      "None\n"
     ]
    }
   ],
   "source": [
    "# Getting an overview of the dataset\n",
    "print(incident_data.info())"
   ]
  },
  {
   "cell_type": "code",
   "execution_count": 5,
   "id": "1ca3d33e",
   "metadata": {},
   "outputs": [],
   "source": [
    "# Replace all missing values with 'unknown information' across the dataset\n",
    "incident_data.fillna('unknown information', inplace=True)"
   ]
  },
  {
   "cell_type": "code",
   "execution_count": 6,
   "id": "307d4e6b",
   "metadata": {},
   "outputs": [],
   "source": [
    "# Replace '?' with 'unknown information' for missing values\n",
    "incident_data.replace({'?': 'unknown information'}, inplace=True)"
   ]
  },
  {
   "cell_type": "code",
   "execution_count": 7,
   "id": "e75a8a68",
   "metadata": {},
   "outputs": [],
   "source": [
    "# Replace 'unknown information' and '?' with NaN for further processing\n",
    "incident_data.replace({'unknown information': np.nan, '?': np.nan}, inplace=True)"
   ]
  },
  {
   "cell_type": "code",
   "execution_count": 8,
   "id": "57b7ffa4",
   "metadata": {},
   "outputs": [
    {
     "name": "stdout",
     "output_type": "stream",
     "text": [
      "Data types before handling missing values:\n",
      " number                     object\n",
      "incident_state             object\n",
      "active                       bool\n",
      "reassignment_count          int64\n",
      "reopen_count                int64\n",
      "sys_mod_count               int64\n",
      "made_sla                     bool\n",
      "caller_id                  object\n",
      "opened_by                  object\n",
      "opened_at                  object\n",
      "sys_created_by             object\n",
      "sys_created_at             object\n",
      "sys_updated_by             object\n",
      "sys_updated_at             object\n",
      "contact_type               object\n",
      "location                   object\n",
      "category                   object\n",
      "subcategory                object\n",
      "u_symptom                  object\n",
      "cmdb_ci                    object\n",
      "impact                     object\n",
      "urgency                    object\n",
      "priority                   object\n",
      "assignment_group           object\n",
      "assigned_to                object\n",
      "knowledge                    bool\n",
      "u_priority_confirmation      bool\n",
      "notify                     object\n",
      "problem_id                 object\n",
      "rfc                        object\n",
      "vendor                     object\n",
      "caused_by                  object\n",
      "closed_code                object\n",
      "resolved_by                object\n",
      "resolved_at                object\n",
      "closed_at                  object\n",
      "dtype: object\n"
     ]
    }
   ],
   "source": [
    "# Display data types and missing values before handling\n",
    "print(\"Data types before handling missing values:\\n\", incident_data.dtypes)"
   ]
  },
  {
   "cell_type": "code",
   "execution_count": 9,
   "id": "5241b7e2",
   "metadata": {
    "scrolled": true
   },
   "outputs": [
    {
     "name": "stdout",
     "output_type": "stream",
     "text": [
      "Missing values in each column:\n",
      " number                          0\n",
      "incident_state                  0\n",
      "active                          0\n",
      "reassignment_count              0\n",
      "reopen_count                    0\n",
      "sys_mod_count                   0\n",
      "made_sla                        0\n",
      "caller_id                      29\n",
      "opened_by                    4835\n",
      "opened_at                       0\n",
      "sys_created_by              53076\n",
      "sys_created_at              53076\n",
      "sys_updated_by                  0\n",
      "sys_updated_at                  0\n",
      "contact_type                    0\n",
      "location                       76\n",
      "category                       78\n",
      "subcategory                   111\n",
      "u_symptom                   32964\n",
      "cmdb_ci                    141267\n",
      "impact                          0\n",
      "urgency                         0\n",
      "priority                        0\n",
      "assignment_group            14213\n",
      "assigned_to                 27496\n",
      "knowledge                       0\n",
      "u_priority_confirmation         0\n",
      "notify                          0\n",
      "problem_id                 139417\n",
      "rfc                        140721\n",
      "vendor                     141468\n",
      "caused_by                  141689\n",
      "closed_code                   714\n",
      "resolved_by                   226\n",
      "resolved_at                  3141\n",
      "closed_at                       0\n",
      "dtype: int64\n"
     ]
    }
   ],
   "source": [
    "# Handling Missing Values\n",
    "# Checking for missing values\n",
    "missing_values = incident_data.isnull().sum()\n",
    "print(\"Missing values in each column:\\n\", missing_values)"
   ]
  },
  {
   "cell_type": "code",
   "execution_count": 10,
   "id": "18d3baad",
   "metadata": {},
   "outputs": [],
   "source": [
    "# Handling missing values\n",
    "for column in incident_data.columns:\n",
    "    if incident_data[column].dtype == 'object':  # Categorical columns\n",
    "        mode_value = incident_data[column].mode()[0]\n",
    "        incident_data[column].fillna(mode_value, inplace=True)\n",
    "    else:  # Numerical columns\n",
    "        mean_value = incident_data[column].mean()\n",
    "        incident_data[column].fillna(mean_value, inplace=True)"
   ]
  },
  {
   "cell_type": "code",
   "execution_count": 11,
   "id": "ca143084",
   "metadata": {
    "scrolled": true
   },
   "outputs": [
    {
     "name": "stdout",
     "output_type": "stream",
     "text": [
      "Missing values after handling:\n"
     ]
    },
    {
     "data": {
      "text/plain": [
       "number                     0\n",
       "incident_state             0\n",
       "active                     0\n",
       "reassignment_count         0\n",
       "reopen_count               0\n",
       "sys_mod_count              0\n",
       "made_sla                   0\n",
       "caller_id                  0\n",
       "opened_by                  0\n",
       "opened_at                  0\n",
       "sys_created_by             0\n",
       "sys_created_at             0\n",
       "sys_updated_by             0\n",
       "sys_updated_at             0\n",
       "contact_type               0\n",
       "location                   0\n",
       "category                   0\n",
       "subcategory                0\n",
       "u_symptom                  0\n",
       "cmdb_ci                    0\n",
       "impact                     0\n",
       "urgency                    0\n",
       "priority                   0\n",
       "assignment_group           0\n",
       "assigned_to                0\n",
       "knowledge                  0\n",
       "u_priority_confirmation    0\n",
       "notify                     0\n",
       "problem_id                 0\n",
       "rfc                        0\n",
       "vendor                     0\n",
       "caused_by                  0\n",
       "closed_code                0\n",
       "resolved_by                0\n",
       "resolved_at                0\n",
       "closed_at                  0\n",
       "dtype: int64"
      ]
     },
     "execution_count": 11,
     "metadata": {},
     "output_type": "execute_result"
    }
   ],
   "source": [
    "# Verify the replacement by checking for missing values again\n",
    "missing_values_after_replacement = incident_data.isna().sum()\n",
    "print(\"Missing values after handling:\")\n",
    "missing_values_after_replacement"
   ]
  },
  {
   "cell_type": "markdown",
   "id": "b1341c29",
   "metadata": {},
   "source": [
    "#### Observation 2 - Removing white spaces from string columns"
   ]
  },
  {
   "cell_type": "code",
   "execution_count": 12,
   "id": "e0fd9890",
   "metadata": {},
   "outputs": [],
   "source": [
    "# Data Cleaning\n",
    "# Removing unwanted characters in string columns\n",
    "# This is useful if your data contains unnecessary symbols or characters in text fields.\n",
    "for column in incident_data.select_dtypes(include=['object']).columns:\n",
    "    incident_data[column] = incident_data[column].str.replace('[unwanted_character]', '', regex=True)"
   ]
  },
  {
   "cell_type": "code",
   "execution_count": 13,
   "id": "6418212e",
   "metadata": {},
   "outputs": [],
   "source": [
    "# Removing white spaces from string columns\n",
    "string_columns = incident_data.select_dtypes(include='object').columns\n",
    "incident_data[string_columns] = incident_data[string_columns].applymap(lambda x: x.strip() if isinstance(x, str) else x)"
   ]
  },
  {
   "cell_type": "code",
   "execution_count": 14,
   "id": "fc01df31",
   "metadata": {},
   "outputs": [],
   "source": [
    "# Handling outliers\n",
    "# For numerical columns, outliers can be handled in various ways. Here we'll use the IQR method.\n",
    "for column in incident_data.select_dtypes(include=['float64', 'int64']).columns:\n",
    "    Q1 = incident_data[column].quantile(0.25)\n",
    "    Q3 = incident_data[column].quantile(0.75)\n",
    "    IQR = Q3 - Q1\n",
    "    lower_bound = Q1 - 1.5 * IQR\n",
    "    upper_bound = Q3 + 1.5 * IQR\n",
    "\n",
    "    # Handling outliers by capping\n",
    "    incident_data[column] = np.where(incident_data[column] < lower_bound, lower_bound, incident_data[column])\n",
    "    incident_data[column] = np.where(incident_data[column] > upper_bound, upper_bound, incident_data[column])"
   ]
  },
  {
   "cell_type": "code",
   "execution_count": 15,
   "id": "47665426",
   "metadata": {},
   "outputs": [],
   "source": [
    "# Removing duplicates\n",
    "# If your data contains duplicate records, you may want to remove them to prevent skewing your analysis.\n",
    "incident_data.drop_duplicates(inplace=True)"
   ]
  },
  {
   "cell_type": "markdown",
   "id": "0c6825e2",
   "metadata": {},
   "source": [
    "#### Observation 3 - Converting date columns to datetime format"
   ]
  },
  {
   "cell_type": "code",
   "execution_count": 16,
   "id": "c001ed1f",
   "metadata": {},
   "outputs": [
    {
     "name": "stdout",
     "output_type": "stream",
     "text": [
      "<class 'pandas.core.frame.DataFrame'>\n",
      "Index: 141499 entries, 0 to 141711\n",
      "Data columns (total 36 columns):\n",
      " #   Column                   Non-Null Count   Dtype         \n",
      "---  ------                   --------------   -----         \n",
      " 0   number                   141499 non-null  object        \n",
      " 1   incident_state           141499 non-null  object        \n",
      " 2   active                   141499 non-null  bool          \n",
      " 3   reassignment_count       141499 non-null  float64       \n",
      " 4   reopen_count             141499 non-null  float64       \n",
      " 5   sys_mod_count            141499 non-null  float64       \n",
      " 6   made_sla                 141499 non-null  bool          \n",
      " 7   caller_id                141499 non-null  object        \n",
      " 8   opened_by                141499 non-null  object        \n",
      " 9   opened_at                141499 non-null  datetime64[ns]\n",
      " 10  sys_created_by           141499 non-null  object        \n",
      " 11  sys_created_at           141499 non-null  datetime64[ns]\n",
      " 12  sys_updated_by           141499 non-null  object        \n",
      " 13  sys_updated_at           141499 non-null  datetime64[ns]\n",
      " 14  contact_type             141499 non-null  object        \n",
      " 15  location                 141499 non-null  object        \n",
      " 16  category                 141499 non-null  object        \n",
      " 17  subcategory              141499 non-null  object        \n",
      " 18  u_symptom                141499 non-null  object        \n",
      " 19  cmdb_ci                  141499 non-null  object        \n",
      " 20  impact                   141499 non-null  object        \n",
      " 21  urgency                  141499 non-null  object        \n",
      " 22  priority                 141499 non-null  object        \n",
      " 23  assignment_group         141499 non-null  object        \n",
      " 24  assigned_to              141499 non-null  object        \n",
      " 25  knowledge                141499 non-null  bool          \n",
      " 26  u_priority_confirmation  141499 non-null  bool          \n",
      " 27  notify                   141499 non-null  object        \n",
      " 28  problem_id               141499 non-null  object        \n",
      " 29  rfc                      141499 non-null  object        \n",
      " 30  vendor                   141499 non-null  object        \n",
      " 31  caused_by                141499 non-null  object        \n",
      " 32  closed_code              141499 non-null  object        \n",
      " 33  resolved_by              141499 non-null  object        \n",
      " 34  resolved_at              141499 non-null  datetime64[ns]\n",
      " 35  closed_at                56217 non-null   datetime64[ns]\n",
      "dtypes: bool(4), datetime64[ns](5), float64(3), object(24)\n",
      "memory usage: 36.2+ MB\n"
     ]
    }
   ],
   "source": [
    "# Converting date columns to datetime format\n",
    "datetime_columns = ['opened_at', 'sys_created_at', 'sys_updated_at', 'resolved_at', 'closed_at']\n",
    "incident_data[datetime_columns] = incident_data[datetime_columns].apply(pd.to_datetime, errors='coerce')\n",
    "incident_data.info()"
   ]
  },
  {
   "cell_type": "markdown",
   "id": "4faea739",
   "metadata": {},
   "source": [
    "#### Observation 4 - Standardizing text data"
   ]
  },
  {
   "cell_type": "code",
   "execution_count": 17,
   "id": "15673186",
   "metadata": {},
   "outputs": [],
   "source": [
    "# Standardizing text data\n",
    "text_columns = incident_data.select_dtypes(include='object').columns\n",
    "incident_data[text_columns] = incident_data[text_columns].apply(lambda x: x.str.lower())"
   ]
  },
  {
   "cell_type": "markdown",
   "id": "959ffdc5",
   "metadata": {},
   "source": [
    "#### Observation 5 - Feature engineering for incident duration (Preparation for Task 2: Feature Engineering)"
   ]
  },
  {
   "cell_type": "code",
   "execution_count": 18,
   "id": "4f932f4f",
   "metadata": {},
   "outputs": [
    {
     "name": "stdout",
     "output_type": "stream",
     "text": [
      "<class 'pandas.core.frame.DataFrame'>\n",
      "Index: 141499 entries, 0 to 141711\n",
      "Data columns (total 37 columns):\n",
      " #   Column                   Non-Null Count   Dtype         \n",
      "---  ------                   --------------   -----         \n",
      " 0   number                   141499 non-null  object        \n",
      " 1   incident_state           141499 non-null  object        \n",
      " 2   active                   141499 non-null  bool          \n",
      " 3   reassignment_count       141499 non-null  float64       \n",
      " 4   reopen_count             141499 non-null  float64       \n",
      " 5   sys_mod_count            141499 non-null  float64       \n",
      " 6   made_sla                 141499 non-null  bool          \n",
      " 7   caller_id                141499 non-null  object        \n",
      " 8   opened_by                141499 non-null  object        \n",
      " 9   opened_at                141499 non-null  datetime64[ns]\n",
      " 10  sys_created_by           141499 non-null  object        \n",
      " 11  sys_created_at           141499 non-null  datetime64[ns]\n",
      " 12  sys_updated_by           141499 non-null  object        \n",
      " 13  sys_updated_at           141499 non-null  datetime64[ns]\n",
      " 14  contact_type             141499 non-null  object        \n",
      " 15  location                 141499 non-null  object        \n",
      " 16  category                 141499 non-null  object        \n",
      " 17  subcategory              141499 non-null  object        \n",
      " 18  u_symptom                141499 non-null  object        \n",
      " 19  cmdb_ci                  141499 non-null  object        \n",
      " 20  impact                   141499 non-null  object        \n",
      " 21  urgency                  141499 non-null  object        \n",
      " 22  priority                 141499 non-null  object        \n",
      " 23  assignment_group         141499 non-null  object        \n",
      " 24  assigned_to              141499 non-null  object        \n",
      " 25  knowledge                141499 non-null  bool          \n",
      " 26  u_priority_confirmation  141499 non-null  bool          \n",
      " 27  notify                   141499 non-null  object        \n",
      " 28  problem_id               141499 non-null  object        \n",
      " 29  rfc                      141499 non-null  object        \n",
      " 30  vendor                   141499 non-null  object        \n",
      " 31  caused_by                141499 non-null  object        \n",
      " 32  closed_code              141499 non-null  object        \n",
      " 33  resolved_by              141499 non-null  object        \n",
      " 34  resolved_at              141499 non-null  datetime64[ns]\n",
      " 35  closed_at                56217 non-null   datetime64[ns]\n",
      " 36  duration_hours           141499 non-null  float64       \n",
      "dtypes: bool(4), datetime64[ns](5), float64(4), object(24)\n",
      "memory usage: 37.2+ MB\n"
     ]
    }
   ],
   "source": [
    "# Feature engineering for incident duration\n",
    "incident_data['duration_hours'] = (incident_data['closed_at'] - incident_data['opened_at']).dt.total_seconds() / 3600\n",
    "incident_data['duration_hours'].fillna(incident_data['duration_hours'].median(), inplace=True)\n",
    "incident_data.info()"
   ]
  },
  {
   "cell_type": "markdown",
   "id": "9b6250e2",
   "metadata": {},
   "source": [
    "#### Observation 6 - Conducting Exploratory Data Analysis (EDA)"
   ]
  },
  {
   "cell_type": "code",
   "execution_count": 19,
   "id": "eb0a4322",
   "metadata": {},
   "outputs": [
    {
     "name": "stdout",
     "output_type": "stream",
     "text": [
      "Descriptive Statistics for Numerical Columns:\n",
      "       reassignment_count  reopen_count  sys_mod_count   \n",
      "count       141499.000000      141499.0  141499.000000  \\\n",
      "mean             0.819582           0.0       4.193948   \n",
      "min              0.000000           0.0       0.000000   \n",
      "25%              0.000000           0.0       1.000000   \n",
      "50%              1.000000           0.0       3.000000   \n",
      "75%              1.000000           0.0       6.000000   \n",
      "max              2.500000           0.0      13.500000   \n",
      "std              0.936843           0.0       4.126887   \n",
      "\n",
      "                           opened_at                 sys_created_at   \n",
      "count                         141499                         141499  \\\n",
      "mean   2016-04-12 22:29:30.870748416  2016-05-11 05:59:09.215471872   \n",
      "min              2016-02-29 01:16:00            2016-02-29 01:23:00   \n",
      "25%              2016-03-16 15:27:00            2016-03-24 11:49:00   \n",
      "50%              2016-04-07 16:34:00            2016-05-04 15:09:00   \n",
      "75%              2016-05-04 10:40:00            2016-07-04 14:50:00   \n",
      "max              2017-02-16 14:17:00            2017-01-27 16:59:00   \n",
      "std                              NaN                            NaN   \n",
      "\n",
      "                      sys_updated_at                    resolved_at   \n",
      "count                         141499                         141499  \\\n",
      "mean   2016-04-19 10:02:14.213951744  2016-04-25 01:25:31.738739968   \n",
      "min              2016-02-29 01:23:00            2016-02-29 09:04:00   \n",
      "25%              2016-03-24 08:25:00            2016-03-28 08:24:00   \n",
      "50%              2016-04-13 10:59:00            2016-04-18 09:41:00   \n",
      "75%              2016-05-09 13:42:30            2016-05-13 14:55:00   \n",
      "max              2017-02-18 15:00:00            2017-02-17 00:47:00   \n",
      "std                              NaN                            NaN   \n",
      "\n",
      "                           closed_at  duration_hours  \n",
      "count                          56217   141499.000000  \n",
      "mean   2016-06-27 12:46:29.005816832     1668.948751  \n",
      "min              2016-01-04 00:59:00    -6958.966667  \n",
      "25%              2016-04-04 14:59:00     1609.300000  \n",
      "50%              2016-07-03 17:00:00     1609.300000  \n",
      "75%              2016-09-08 09:00:00     1609.300000  \n",
      "max              2017-12-02 17:00:00    13335.016667  \n",
      "std                              NaN     1593.360514  \n"
     ]
    }
   ],
   "source": [
    "print(\"Descriptive Statistics for Numerical Columns:\")\n",
    "print(incident_data.describe())"
   ]
  },
  {
   "cell_type": "markdown",
   "id": "a4f26765",
   "metadata": {},
   "source": [
    "#### Observation 7 - Data normalisation/standardisation"
   ]
  },
  {
   "cell_type": "code",
   "execution_count": 20,
   "id": "b517821a",
   "metadata": {},
   "outputs": [
    {
     "name": "stdout",
     "output_type": "stream",
     "text": [
      "<class 'pandas.core.frame.DataFrame'>\n",
      "Index: 141499 entries, 0 to 141711\n",
      "Data columns (total 37 columns):\n",
      " #   Column                   Non-Null Count   Dtype         \n",
      "---  ------                   --------------   -----         \n",
      " 0   number                   141499 non-null  object        \n",
      " 1   incident_state           141499 non-null  object        \n",
      " 2   active                   141499 non-null  bool          \n",
      " 3   reassignment_count       141499 non-null  float64       \n",
      " 4   reopen_count             141499 non-null  float64       \n",
      " 5   sys_mod_count            141499 non-null  float64       \n",
      " 6   made_sla                 141499 non-null  bool          \n",
      " 7   caller_id                141499 non-null  object        \n",
      " 8   opened_by                141499 non-null  object        \n",
      " 9   opened_at                141499 non-null  datetime64[ns]\n",
      " 10  sys_created_by           141499 non-null  object        \n",
      " 11  sys_created_at           141499 non-null  datetime64[ns]\n",
      " 12  sys_updated_by           141499 non-null  object        \n",
      " 13  sys_updated_at           141499 non-null  datetime64[ns]\n",
      " 14  contact_type             141499 non-null  object        \n",
      " 15  location                 141499 non-null  object        \n",
      " 16  category                 141499 non-null  object        \n",
      " 17  subcategory              141499 non-null  object        \n",
      " 18  u_symptom                141499 non-null  object        \n",
      " 19  cmdb_ci                  141499 non-null  object        \n",
      " 20  impact                   141499 non-null  object        \n",
      " 21  urgency                  141499 non-null  object        \n",
      " 22  priority                 141499 non-null  object        \n",
      " 23  assignment_group         141499 non-null  object        \n",
      " 24  assigned_to              141499 non-null  object        \n",
      " 25  knowledge                141499 non-null  bool          \n",
      " 26  u_priority_confirmation  141499 non-null  bool          \n",
      " 27  notify                   141499 non-null  object        \n",
      " 28  problem_id               141499 non-null  object        \n",
      " 29  rfc                      141499 non-null  object        \n",
      " 30  vendor                   141499 non-null  object        \n",
      " 31  caused_by                141499 non-null  object        \n",
      " 32  closed_code              141499 non-null  object        \n",
      " 33  resolved_by              141499 non-null  object        \n",
      " 34  resolved_at              141499 non-null  datetime64[ns]\n",
      " 35  closed_at                56217 non-null   datetime64[ns]\n",
      " 36  duration_hours           141499 non-null  float64       \n",
      "dtypes: bool(4), datetime64[ns](5), float64(4), object(24)\n",
      "memory usage: 37.2+ MB\n"
     ]
    }
   ],
   "source": [
    "# Data normalization/standardization\n",
    "incident_data['duration_hours'] = (incident_data['duration_hours'] - incident_data['duration_hours'].mean()) / incident_data['duration_hours'].std()\n",
    "# Normalizing numerical data\n",
    "scaler = StandardScaler()\n",
    "numerical_columns = incident_data.select_dtypes(include=['float64', 'int64']).columns\n",
    "incident_data[numerical_columns] = scaler.fit_transform(incident_data[numerical_columns])\n",
    "incident_data.info()"
   ]
  },
  {
   "cell_type": "code",
   "execution_count": 21,
   "id": "055f630b",
   "metadata": {},
   "outputs": [
    {
     "data": {
      "image/png": "[encoded data removed]",
      "text/plain": [
       "<Figure size 576x288 with 1 Axes>"
      ]
     },
     "metadata": {
      "needs_background": "light"
     },
     "output_type": "display_data"
    },
    {
     "data": {
      "image/png": "[encoded data removed]",
      "text/plain": [
       "<Figure size 576x288 with 1 Axes>"
      ]
     },
     "metadata": {
      "needs_background": "light"
     },
     "output_type": "display_data"
    },
    {
     "data": {
      "image/png": "[encoded data removed]",
      "text/plain": [
       "<Figure size 576x288 with 1 Axes>"
      ]
     },
     "metadata": {
      "needs_background": "light"
     },
     "output_type": "display_data"
    },
    {
     "data": {
      "image/png": "[encoded data removed]",
      "text/plain": [
       "<Figure size 576x288 with 1 Axes>"
      ]
     },
     "metadata": {
      "needs_background": "light"
     },
     "output_type": "display_data"
    },
    {
     "data": {
      "image/png": "[encoded data removed]",
      "text/plain": [
       "<Figure size 864x720 with 2 Axes>"
      ]
     },
     "metadata": {
      "needs_background": "light"
     },
     "output_type": "display_data"
    }
   ],
   "source": [
    "# Additional Step: Exploratory Data Analysis (EDA)\n",
    "\n",
    "# Visualizing the distribution of all numerical columns\n",
    "numerical_columns = incident_data.select_dtypes(include=['float64', 'int64']).columns\n",
    "\n",
    "# Plotting histograms for each numerical column\n",
    "for column in numerical_columns:\n",
    "    plt.figure(figsize=(8, 4))\n",
    "    sns.histplot(incident_data[column], kde=True)\n",
    "    plt.title(f'Distribution of {column}')\n",
    "    plt.show()\n",
    "\n",
    "# Correlation matrix for only numeric columns\n",
    "numeric_incident_data = incident_data.select_dtypes(include=['float64', 'int64'])\n",
    "plt.figure(figsize=(12, 10))\n",
    "sns.heatmap(numeric_incident_data.corr(), annot=True, fmt=\".2f\", cmap='viridis')\n",
    "plt.title('Correlation Matrix')\n",
    "plt.show()"
   ]
  },
  {
   "cell_type": "code",
   "execution_count": 22,
   "id": "3cbd7043",
   "metadata": {
    "scrolled": true
   },
   "outputs": [
    {
     "name": "stdout",
     "output_type": "stream",
     "text": [
      "\n",
      "Preprocessed Data:\n"
     ]
    },
    {
     "data": {
      "text/html": [
       "<div>\n",
       "<style scoped>\n",
       "    .dataframe tbody tr th:only-of-type {\n",
       "        vertical-align: middle;\n",
       "    }\n",
       "\n",
       "    .dataframe tbody tr th {\n",
       "        vertical-align: top;\n",
       "    }\n",
       "\n",
       "    .dataframe thead th {\n",
       "        text-align: right;\n",
       "    }\n",
       "</style>\n",
       "<table border=\"1\" class=\"dataframe\">\n",
       "  <thead>\n",
       "    <tr style=\"text-align: right;\">\n",
       "      <th></th>\n",
       "      <th>number</th>\n",
       "      <th>incident_state</th>\n",
       "      <th>active</th>\n",
       "      <th>reassignment_count</th>\n",
       "      <th>reopen_count</th>\n",
       "      <th>sys_mod_count</th>\n",
       "      <th>made_sla</th>\n",
       "      <th>caller_id</th>\n",
       "      <th>opened_by</th>\n",
       "      <th>opened_at</th>\n",
       "      <th>...</th>\n",
       "      <th>notify</th>\n",
       "      <th>problem_id</th>\n",
       "      <th>rfc</th>\n",
       "      <th>vendor</th>\n",
       "      <th>caused_by</th>\n",
       "      <th>closed_code</th>\n",
       "      <th>resolved_by</th>\n",
       "      <th>resolved_at</th>\n",
       "      <th>closed_at</th>\n",
       "      <th>duration_hours</th>\n",
       "    </tr>\n",
       "  </thead>\n",
       "  <tbody>\n",
       "    <tr>\n",
       "      <th>0</th>\n",
       "      <td>inc0000045</td>\n",
       "      <td>n</td>\n",
       "      <td>True</td>\n",
       "      <td>-0.874837</td>\n",
       "      <td>0.0</td>\n",
       "      <td>-1.016253</td>\n",
       "      <td>True</td>\n",
       "      <td>cll 2403</td>\n",
       "      <td>op by  8</td>\n",
       "      <td>2016-02-29 01:16:00</td>\n",
       "      <td>...</td>\n",
       "      <td>do no noify</td>\n",
       "      <td>poblm id  14</td>\n",
       "      <td>chg0000132</td>\n",
       "      <td>o 8s</td>\n",
       "      <td>chg0000097</td>\n",
       "      <td>o 5</td>\n",
       "      <td>rsolv by 149</td>\n",
       "      <td>2016-02-29 11:29:00</td>\n",
       "      <td>2016-05-03 12:00:00</td>\n",
       "      <td>-0.076703</td>\n",
       "    </tr>\n",
       "    <tr>\n",
       "      <th>1</th>\n",
       "      <td>inc0000045</td>\n",
       "      <td>rsolv</td>\n",
       "      <td>True</td>\n",
       "      <td>-0.874837</td>\n",
       "      <td>0.0</td>\n",
       "      <td>-0.531625</td>\n",
       "      <td>True</td>\n",
       "      <td>cll 2403</td>\n",
       "      <td>op by  8</td>\n",
       "      <td>2016-02-29 01:16:00</td>\n",
       "      <td>...</td>\n",
       "      <td>do no noify</td>\n",
       "      <td>poblm id  14</td>\n",
       "      <td>chg0000132</td>\n",
       "      <td>o 8s</td>\n",
       "      <td>chg0000097</td>\n",
       "      <td>o 5</td>\n",
       "      <td>rsolv by 149</td>\n",
       "      <td>2016-02-29 11:29:00</td>\n",
       "      <td>2016-05-03 12:00:00</td>\n",
       "      <td>-0.076703</td>\n",
       "    </tr>\n",
       "    <tr>\n",
       "      <th>2</th>\n",
       "      <td>inc0000045</td>\n",
       "      <td>rsolv</td>\n",
       "      <td>True</td>\n",
       "      <td>-0.874837</td>\n",
       "      <td>0.0</td>\n",
       "      <td>-0.289311</td>\n",
       "      <td>True</td>\n",
       "      <td>cll 2403</td>\n",
       "      <td>op by  8</td>\n",
       "      <td>2016-02-29 01:16:00</td>\n",
       "      <td>...</td>\n",
       "      <td>do no noify</td>\n",
       "      <td>poblm id  14</td>\n",
       "      <td>chg0000132</td>\n",
       "      <td>o 8s</td>\n",
       "      <td>chg0000097</td>\n",
       "      <td>o 5</td>\n",
       "      <td>rsolv by 149</td>\n",
       "      <td>2016-02-29 11:29:00</td>\n",
       "      <td>2016-05-03 12:00:00</td>\n",
       "      <td>-0.076703</td>\n",
       "    </tr>\n",
       "    <tr>\n",
       "      <th>3</th>\n",
       "      <td>inc0000045</td>\n",
       "      <td>clos</td>\n",
       "      <td>False</td>\n",
       "      <td>-0.874837</td>\n",
       "      <td>0.0</td>\n",
       "      <td>-0.046996</td>\n",
       "      <td>True</td>\n",
       "      <td>cll 2403</td>\n",
       "      <td>op by  8</td>\n",
       "      <td>2016-02-29 01:16:00</td>\n",
       "      <td>...</td>\n",
       "      <td>do no noify</td>\n",
       "      <td>poblm id  14</td>\n",
       "      <td>chg0000132</td>\n",
       "      <td>o 8s</td>\n",
       "      <td>chg0000097</td>\n",
       "      <td>o 5</td>\n",
       "      <td>rsolv by 149</td>\n",
       "      <td>2016-02-29 11:29:00</td>\n",
       "      <td>2016-05-03 12:00:00</td>\n",
       "      <td>-0.076703</td>\n",
       "    </tr>\n",
       "    <tr>\n",
       "      <th>4</th>\n",
       "      <td>inc0000047</td>\n",
       "      <td>n</td>\n",
       "      <td>True</td>\n",
       "      <td>-0.874837</td>\n",
       "      <td>0.0</td>\n",
       "      <td>-1.016253</td>\n",
       "      <td>True</td>\n",
       "      <td>cll 2403</td>\n",
       "      <td>op by  397</td>\n",
       "      <td>2016-02-29 04:40:00</td>\n",
       "      <td>...</td>\n",
       "      <td>do no noify</td>\n",
       "      <td>poblm id  14</td>\n",
       "      <td>chg0000132</td>\n",
       "      <td>o 8s</td>\n",
       "      <td>chg0000097</td>\n",
       "      <td>o 5</td>\n",
       "      <td>rsolv by 81</td>\n",
       "      <td>2016-03-01 09:52:00</td>\n",
       "      <td>2016-06-03 10:00:00</td>\n",
       "      <td>0.386847</td>\n",
       "    </tr>\n",
       "  </tbody>\n",
       "</table>\n",
       "<p>5 rows × 37 columns</p>\n",
       "</div>"
      ],
      "text/plain": [
       "       number incident_state  active  reassignment_count  reopen_count   \n",
       "0  inc0000045              n    True           -0.874837           0.0  \\\n",
       "1  inc0000045          rsolv    True           -0.874837           0.0   \n",
       "2  inc0000045          rsolv    True           -0.874837           0.0   \n",
       "3  inc0000045           clos   False           -0.874837           0.0   \n",
       "4  inc0000047              n    True           -0.874837           0.0   \n",
       "\n",
       "   sys_mod_count  made_sla caller_id   opened_by           opened_at  ...   \n",
       "0      -1.016253      True  cll 2403    op by  8 2016-02-29 01:16:00  ...  \\\n",
       "1      -0.531625      True  cll 2403    op by  8 2016-02-29 01:16:00  ...   \n",
       "2      -0.289311      True  cll 2403    op by  8 2016-02-29 01:16:00  ...   \n",
       "3      -0.046996      True  cll 2403    op by  8 2016-02-29 01:16:00  ...   \n",
       "4      -1.016253      True  cll 2403  op by  397 2016-02-29 04:40:00  ...   \n",
       "\n",
       "        notify    problem_id         rfc vendor   caused_by closed_code   \n",
       "0  do no noify  poblm id  14  chg0000132   o 8s  chg0000097         o 5  \\\n",
       "1  do no noify  poblm id  14  chg0000132   o 8s  chg0000097         o 5   \n",
       "2  do no noify  poblm id  14  chg0000132   o 8s  chg0000097         o 5   \n",
       "3  do no noify  poblm id  14  chg0000132   o 8s  chg0000097         o 5   \n",
       "4  do no noify  poblm id  14  chg0000132   o 8s  chg0000097         o 5   \n",
       "\n",
       "    resolved_by         resolved_at           closed_at duration_hours  \n",
       "0  rsolv by 149 2016-02-29 11:29:00 2016-05-03 12:00:00      -0.076703  \n",
       "1  rsolv by 149 2016-02-29 11:29:00 2016-05-03 12:00:00      -0.076703  \n",
       "2  rsolv by 149 2016-02-29 11:29:00 2016-05-03 12:00:00      -0.076703  \n",
       "3  rsolv by 149 2016-02-29 11:29:00 2016-05-03 12:00:00      -0.076703  \n",
       "4   rsolv by 81 2016-03-01 09:52:00 2016-06-03 10:00:00       0.386847  \n",
       "\n",
       "[5 rows x 37 columns]"
      ]
     },
     "execution_count": 22,
     "metadata": {},
     "output_type": "execute_result"
    }
   ],
   "source": [
    "# Print the preprocessed data\n",
    "print(\"\\nPreprocessed Data:\")\n",
    "incident_data.head()"
   ]
  },
  {
   "cell_type": "markdown",
   "id": "6821fb2b",
   "metadata": {},
   "source": [
    "## Task 2: Feature Engineering "
   ]
  },
  {
   "cell_type": "code",
   "execution_count": 23,
   "id": "c8d4dbb3",
   "metadata": {},
   "outputs": [],
   "source": [
    "# Setting styles and suppressing warnings\n",
    "sns.set(style='whitegrid')\n",
    "warnings.filterwarnings('ignore')"
   ]
  },
  {
   "cell_type": "markdown",
   "id": "adbf6b40",
   "metadata": {},
   "source": [
    "### Advanced EDA for Better Feature Understanding"
   ]
  },
  {
   "cell_type": "code",
   "execution_count": 24,
   "id": "f8aafd1f",
   "metadata": {},
   "outputs": [
    {
     "data": {
      "image/png": "[encoded data removed]",
      "text/plain": [
       "<Figure size 540x540 with 9 Axes>"
      ]
     },
     "metadata": {},
     "output_type": "display_data"
    }
   ],
   "source": [
    "# Pair plot for a subset of features to understand their relationships\n",
    "subset_features = ['reassignment_count', 'reopen_count', 'sys_mod_count', 'priority', 'impact']\n",
    "sns.pairplot(incident_data[subset_features], diag_kind='kde', corner=True)\n",
    "plt.suptitle('Pairplot of Subset Features', y=1.02)\n",
    "plt.show()"
   ]
  },
  {
   "cell_type": "code",
   "execution_count": 25,
   "id": "c12d590e",
   "metadata": {},
   "outputs": [
    {
     "data": {
      "image/png": "[encoded data removed]",
      "text/plain": [
       "<Figure size 432x288 with 1 Axes>"
      ]
     },
     "metadata": {},
     "output_type": "display_data"
    },
    {
     "data": {
      "image/png": "[encoded data removed]",
      "text/plain": [
       "<Figure size 432x288 with 1 Axes>"
      ]
     },
     "metadata": {},
     "output_type": "display_data"
    },
    {
     "data": {
      "image/png": "[encoded data removed]",
      "text/plain": [
       "<Figure size 432x288 with 1 Axes>"
      ]
     },
     "metadata": {},
     "output_type": "display_data"
    },
    {
     "data": {
      "image/png": "[encoded data removed]",
      "text/plain": [
       "<Figure size 432x288 with 1 Axes>"
      ]
     },
     "metadata": {},
     "output_type": "display_data"
    },
    {
     "data": {
      "image/png": "[encoded data removed]",
      "text/plain": [
       "<Figure size 432x288 with 1 Axes>"
      ]
     },
     "metadata": {},
     "output_type": "display_data"
    }
   ],
   "source": [
    "# Boxplot to check for outliers in key numerical features\n",
    "for col in subset_features:\n",
    "    plt.figure(figsize=(6, 4))\n",
    "    sns.boxplot(data=incident_data, x=col)\n",
    "    plt.title(f'Boxplot of {col}')\n",
    "    plt.show()"
   ]
  },
  {
   "cell_type": "markdown",
   "id": "1075eb85",
   "metadata": {},
   "source": [
    "### Advanced Feature Engineering Techniques"
   ]
  },
  {
   "cell_type": "code",
   "execution_count": 26,
   "id": "1e7cdaa4",
   "metadata": {},
   "outputs": [],
   "source": [
    "# Creating interaction terms to capture combined effects of features\n",
    "incident_data['interaction_reopen_sysmod'] = incident_data['reopen_count'] * incident_data['sys_mod_count']"
   ]
  },
  {
   "cell_type": "code",
   "execution_count": 27,
   "id": "fd6f68a8",
   "metadata": {
    "scrolled": false
   },
   "outputs": [],
   "source": [
    "# Encoding categorical variables with Label Encoding\n",
    "label_encoder = LabelEncoder()\n",
    "categorical_columns = incident_data.select_dtypes(include=['object']).columns\n",
    "incident_data[categorical_columns] = incident_data[categorical_columns].apply(label_encoder.fit_transform)"
   ]
  },
  {
   "cell_type": "markdown",
   "id": "4186ddfe",
   "metadata": {},
   "source": [
    "### Feature Selection via Recursive Feature Elimination (RFE)\n"
   ]
  },
  {
   "cell_type": "code",
   "execution_count": 28,
   "id": "24ab43d3",
   "metadata": {},
   "outputs": [],
   "source": [
    "# Convert datetime columns to a numerical format (e.g., Unix timestamp)\n",
    "datetime_columns = ['opened_at', 'sys_created_at', 'sys_updated_at', 'resolved_at', 'closed_at']  # Adjust the list based on your dataset\n",
    "for col in datetime_columns:\n",
    "    incident_data[col] = pd.to_datetime(incident_data[col], errors='coerce')\n",
    "    incident_data[col] = incident_data[col].astype(np.int64) // 10**9  # Convert to Unix timestamp"
   ]
  },
  {
   "cell_type": "code",
   "execution_count": 29,
   "id": "f02b2abb",
   "metadata": {},
   "outputs": [],
   "source": [
    "# Select features using RFE with a decision tree regressor as the model\n",
    "selector = RFE(DecisionTreeRegressor(), n_features_to_select=10, step=1)\n",
    "selector = selector.fit(incident_data.drop('duration_hours', axis=1), incident_data['duration_hours'])"
   ]
  },
  {
   "cell_type": "code",
   "execution_count": 30,
   "id": "bf99c74c",
   "metadata": {},
   "outputs": [
    {
     "name": "stdout",
     "output_type": "stream",
     "text": [
      "Selected Features via RFE with Regression Model: Index(['number', 'opened_by', 'opened_at', 'sys_created_at', 'location',\n",
      "       'u_symptom', 'closed_code', 'resolved_by', 'resolved_at', 'closed_at'],\n",
      "      dtype='object')\n"
     ]
    }
   ],
   "source": [
    "# Selected features based on RFE\n",
    "selected_features_rfe = incident_data.drop('duration_hours', axis=1).columns[selector.support_]\n",
    "print(\"Selected Features via RFE with Regression Model:\", selected_features_rfe)"
   ]
  },
  {
   "cell_type": "code",
   "execution_count": 31,
   "id": "17a2897c",
   "metadata": {},
   "outputs": [],
   "source": [
    "# Normalizing numerical data\n",
    "scaler = StandardScaler()\n",
    "numerical_columns = incident_data.select_dtypes(include=['float64', 'int64']).columns\n",
    "incident_data[numerical_columns] = scaler.fit_transform(incident_data[numerical_columns])"
   ]
  },
  {
   "cell_type": "code",
   "execution_count": 32,
   "id": "61c53e18",
   "metadata": {},
   "outputs": [],
   "source": [
    "# Splitting the dataset into training, validation, and test sets\n",
    "train_df, test_df = train_test_split(incident_data, test_size=0.2, random_state=42)\n",
    "train_df, val_df = train_test_split(train_df, test_size=0.25, random_state=42)"
   ]
  },
  {
   "cell_type": "code",
   "execution_count": 33,
   "id": "f47c033e",
   "metadata": {},
   "outputs": [],
   "source": [
    "# Apply selected features to train, validation, and test sets\n",
    "train_selected_rfe = train_df[selected_features_rfe]\n",
    "val_selected_rfe = val_df[selected_features_rfe]\n",
    "test_selected_rfe = test_df[selected_features_rfe]"
   ]
  },
  {
   "cell_type": "code",
   "execution_count": 34,
   "id": "aa0777ec",
   "metadata": {},
   "outputs": [
    {
     "name": "stdout",
     "output_type": "stream",
     "text": [
      "Selected Features Based on RFE:\n",
      "Index(['number', 'opened_by', 'opened_at', 'sys_created_at', 'location',\n",
      "       'u_symptom', 'closed_code', 'resolved_by', 'resolved_at', 'closed_at'],\n",
      "      dtype='object')\n",
      "\n",
      "Training Set Sample with Selected Features:\n",
      "          number  opened_by  opened_at  sys_created_at  location  u_symptom   \n",
      "139805  1.749966  -0.818025   1.307844        0.405782 -0.616333   1.052827  \\\n",
      "63227  -0.239580  -0.818025  -0.228028       -0.729971  1.821035   0.321023   \n",
      "81193   0.208265  -0.818025   0.047048       -0.526927  1.821035   0.321023   \n",
      "106764  0.887712  -1.235268   0.580739       -0.132484  0.077854  -2.897150   \n",
      "34495  -0.924735   0.557333  -0.737854       -1.107186 -1.418505  -0.498950   \n",
      "\n",
      "        closed_code  resolved_by  resolved_at  closed_at  \n",
      "139805    -0.281098     0.715676     0.880425   1.232331  \n",
      "63227      0.060924     0.177939    -0.282131  -0.811904  \n",
      "81193      0.060924     0.389774    -0.212962  -0.811904  \n",
      "106764     0.060924    -0.229438     0.526698  -0.811904  \n",
      "34495      0.060924    -1.451567    -0.705323  -0.811904  \n",
      "\n",
      "Validation Set Sample with Selected Features:\n",
      "          number  opened_by  opened_at  sys_created_at  location  u_symptom   \n",
      "55136  -0.445901  -0.199886  -0.381824        1.078971  0.694909   0.321023  \\\n",
      "127095  1.418466  -0.818025   0.976928        0.160870 -0.863155   0.321023   \n",
      "7312   -1.445839  -0.818025  -1.087638       -1.365783 -0.971140   0.321023   \n",
      "6372   -1.465275   1.082751  -1.107196       -1.380254  0.077854   1.484855   \n",
      "31886  -0.975296   1.252739  -0.765261       -1.127114 -0.863155  -0.543034   \n",
      "\n",
      "        closed_code  resolved_by  resolved_at  closed_at  \n",
      "55136      1.086991    -1.256026    -0.233360  -0.811904  \n",
      "127095     0.060924     1.579314     0.542892  -0.811904  \n",
      "7312       0.744969    -0.229438    -0.616453   1.229292  \n",
      "6372       0.060924    -1.027896     0.385597  -0.811904  \n",
      "31886      0.060924     1.579314    -0.724496  -0.811904  \n",
      "\n",
      "Test Set Sample with Selected Features:\n",
      "          number  opened_by  opened_at  sys_created_at  location  u_symptom   \n",
      "1431   -1.562591  -0.771665  -1.144149       -1.407500  1.281112   1.317334  \\\n",
      "34858  -0.916852  -0.818025  -0.735263       -1.105160 -0.616333   0.321023   \n",
      "549    -1.579988   0.016462  -1.167193        1.078971  0.077854  -1.742134   \n",
      "136306  1.662028  -0.818025   1.243597        1.078971 -0.863155   0.056516   \n",
      "52025  -0.524733   1.793611  -0.414452       -0.868117 -0.616333  -2.711995   \n",
      "\n",
      "        closed_code  resolved_by  resolved_at  closed_at  \n",
      "1431       0.060924     0.389774    -1.146292   1.232797  \n",
      "34858      0.402946    -0.620519    -0.729631  -0.811904  \n",
      "549       -3.701322    -0.881240     0.885188   1.230762  \n",
      "136306     1.086991    -1.402682     1.012249  -0.811904  \n",
      "52025      0.060924    -1.288616    -0.573127   1.230281  \n"
     ]
    }
   ],
   "source": [
    "### Outputting the results\n",
    "\n",
    "print(\"Selected Features Based on RFE:\")\n",
    "print(selected_features_rfe)\n",
    "print(\"\\nTraining Set Sample with Selected Features:\")\n",
    "print(train_selected_rfe.head())\n",
    "print(\"\\nValidation Set Sample with Selected Features:\")\n",
    "print(val_selected_rfe.head())\n",
    "print(\"\\nTest Set Sample with Selected Features:\")\n",
    "print(test_selected_rfe.head())"
   ]
  },
  {
   "cell_type": "markdown",
   "id": "5a791f39",
   "metadata": {},
   "source": [
    "## Task 3: Data Modelling "
   ]
  },
  {
   "cell_type": "markdown",
   "id": "a3bcc6dc",
   "metadata": {},
   "source": [
    "### Classification Models"
   ]
  },
  {
   "cell_type": "markdown",
   "id": "4c3605cc",
   "metadata": {},
   "source": [
    "### Model 1: Logistic Regression"
   ]
  },
  {
   "cell_type": "code",
   "execution_count": 35,
   "id": "7f035145",
   "metadata": {},
   "outputs": [],
   "source": [
    "# Convert datetime columns to Unix timestamps\n",
    "datetime_columns = ['opened_at', 'sys_created_at', 'sys_updated_at', 'resolved_at', 'closed_at']  # Modify as needed\n",
    "for col in datetime_columns:\n",
    "    incident_data[col] = pd.to_datetime(incident_data[col], errors='coerce')\n",
    "    incident_data[col] = incident_data[col].astype(np.int64) // 10**9  # Convert to Unix timestamp"
   ]
  },
  {
   "cell_type": "code",
   "execution_count": 36,
   "id": "46b0e1c1",
   "metadata": {},
   "outputs": [],
   "source": [
    "# Assuming incident_data is your DataFrame and 'target_column' is your target\n",
    "X = incident_data.drop('active', axis=1)\n",
    "y = incident_data['active']"
   ]
  },
  {
   "cell_type": "code",
   "execution_count": 37,
   "id": "df9a11e3",
   "metadata": {},
   "outputs": [
    {
     "data": {
      "text/plain": [
       "(84899, 37)"
      ]
     },
     "metadata": {},
     "output_type": "display_data"
    },
    {
     "data": {
      "text/plain": [
       "(28300, 37)"
      ]
     },
     "metadata": {},
     "output_type": "display_data"
    },
    {
     "data": {
      "text/plain": [
       "(28300, 37)"
      ]
     },
     "metadata": {},
     "output_type": "display_data"
    },
    {
     "data": {
      "text/plain": [
       "(84899,)"
      ]
     },
     "metadata": {},
     "output_type": "display_data"
    },
    {
     "data": {
      "text/plain": [
       "(28300,)"
      ]
     },
     "metadata": {},
     "output_type": "display_data"
    },
    {
     "data": {
      "text/plain": [
       "(28300,)"
      ]
     },
     "metadata": {},
     "output_type": "display_data"
    }
   ],
   "source": [
    "# Splitting the data into training, validation, and test sets\n",
    "# First, split the data into a training set (60%) and a test set (20% of the total)\n",
    "X_train, X_test, y_train, y_test = train_test_split(X, y, test_size=0.2, random_state=42)\n",
    "\n",
    "# Then, split the training set further to create a validation set (20% of the total)\n",
    "X_train, X_val, y_train, y_val = train_test_split(X_train, y_train, test_size=0.25, random_state=42)\n",
    "\n",
    "# Displaying the shapes of the splits\n",
    "display(X_train.shape, X_val.shape, X_test.shape, y_train.shape, y_val.shape, y_test.shape)"
   ]
  },
  {
   "cell_type": "code",
   "execution_count": 38,
   "id": "edc735f6",
   "metadata": {},
   "outputs": [
    {
     "name": "stdout",
     "output_type": "stream",
     "text": [
      "Model accuracy for train set: 0.962\n",
      "Model accuracy for test set: 0.961\n",
      "\n",
      "Classification Report:\n",
      "               precision    recall  f1-score   support\n",
      "\n",
      "       False       0.91      0.86      0.89      5040\n",
      "        True       0.97      0.98      0.98     23260\n",
      "\n",
      "    accuracy                           0.96     28300\n",
      "   macro avg       0.94      0.92      0.93     28300\n",
      "weighted avg       0.96      0.96      0.96     28300\n",
      "\n",
      "\n",
      "Confusion Matrix:\n",
      " [[ 4355   685]\n",
      " [  411 22849]]\n",
      "\n",
      "Accuracy Score:  0.961\n"
     ]
    },
    {
     "data": {
      "image/png": "[encoded data removed]",
      "text/plain": [
       "<Figure size 921.6x432 with 1 Axes>"
      ]
     },
     "metadata": {},
     "output_type": "display_data"
    }
   ],
   "source": [
    "def train_and_plot(model, X_train, y_train, X_test, y_test):\n",
    "    # Training the model\n",
    "    model.fit(X_train, y_train)\n",
    "\n",
    "    # Evaluating the model\n",
    "    train_accuracy = model.score(X_train, y_train)\n",
    "    test_accuracy = model.score(X_test, y_test)\n",
    "    print(f'Model accuracy for train set: {train_accuracy:.3f}')\n",
    "    print(f'Model accuracy for test set: {test_accuracy:.3f}')\n",
    "\n",
    "    # Predictions\n",
    "    y_pred = model.predict(X_test)\n",
    "\n",
    "    # Classification Report\n",
    "    print('\\nClassification Report:\\n', classification_report(y_test, y_pred))\n",
    "\n",
    "    # Confusion Matrix\n",
    "    cm = confusion_matrix(y_test, y_pred)\n",
    "    print('\\nConfusion Matrix:\\n', cm)\n",
    "\n",
    "    # Accuracy Score\n",
    "    auc_score = accuracy_score(y_test, y_pred)\n",
    "    print('\\nAccuracy Score: ', auc_score.round(3))\n",
    "\n",
    "    # ROC Curve\n",
    "    model_roc_auc = roc_auc_score(y_test, model.predict_proba(X_test)[:,1])\n",
    "    fpr, tpr, thresholds = roc_curve(y_test, model.predict_proba(X_test)[:,1])\n",
    "    plt.figure(figsize=(12.8, 6))\n",
    "    plt.plot(fpr, tpr, label=f'AUC = {model_roc_auc:.4f}')\n",
    "    plt.plot([0, 1], [0, 1], 'r--')\n",
    "    plt.xlim([0.0, 1.0])\n",
    "    plt.ylim([0.0, 1.05])\n",
    "    plt.xlabel('False Positive Rate')\n",
    "    plt.ylabel('True Positive Rate')\n",
    "    plt.title('Receiver Operating Characteristic')\n",
    "    plt.legend(loc='lower right')\n",
    "    plt.show()\n",
    "    \n",
    "    return model\n",
    "\n",
    "# Example usage\n",
    "model = LogisticRegression()\n",
    "trained_model = train_and_plot(model, X_train, y_train, X_test, y_test)"
   ]
  },
  {
   "cell_type": "markdown",
   "id": "568140ee",
   "metadata": {},
   "source": [
    "### Model 2: Oversampling and Hyperparameter Tuning"
   ]
  },
  {
   "cell_type": "code",
   "execution_count": 39,
   "id": "034ada9b",
   "metadata": {
    "scrolled": true
   },
   "outputs": [
    {
     "name": "stdout",
     "output_type": "stream",
     "text": [
      "Before oversampling:\n",
      "[[    0 14982]\n",
      " [    1 69917]]\n",
      "After oversampling:\n",
      "[[    0 69917]\n",
      " [    1 69917]]\n"
     ]
    },
    {
     "name": "stderr",
     "output_type": "stream",
     "text": [
      "/Users/erictran/miniforge3/lib/python3.9/site-packages/sklearn/linear_model/_logistic.py:458: ConvergenceWarning: lbfgs failed to converge (status=1):\n",
      "STOP: TOTAL NO. of ITERATIONS REACHED LIMIT.\n",
      "\n",
      "Increase the number of iterations (max_iter) or scale the data as shown in:\n",
      "    https://scikit-learn.org/stable/modules/preprocessing.html\n",
      "Please also refer to the documentation for alternative solver options:\n",
      "    https://scikit-learn.org/stable/modules/linear_model.html#logistic-regression\n",
      "  n_iter_i = _check_optimize_result(\n",
      "/Users/erictran/miniforge3/lib/python3.9/site-packages/sklearn/linear_model/_logistic.py:458: ConvergenceWarning: lbfgs failed to converge (status=1):\n",
      "STOP: TOTAL NO. of ITERATIONS REACHED LIMIT.\n",
      "\n",
      "Increase the number of iterations (max_iter) or scale the data as shown in:\n",
      "    https://scikit-learn.org/stable/modules/preprocessing.html\n",
      "Please also refer to the documentation for alternative solver options:\n",
      "    https://scikit-learn.org/stable/modules/linear_model.html#logistic-regression\n",
      "  n_iter_i = _check_optimize_result(\n",
      "/Users/erictran/miniforge3/lib/python3.9/site-packages/sklearn/linear_model/_logistic.py:458: ConvergenceWarning: lbfgs failed to converge (status=1):\n",
      "STOP: TOTAL NO. of ITERATIONS REACHED LIMIT.\n",
      "\n",
      "Increase the number of iterations (max_iter) or scale the data as shown in:\n",
      "    https://scikit-learn.org/stable/modules/preprocessing.html\n",
      "Please also refer to the documentation for alternative solver options:\n",
      "    https://scikit-learn.org/stable/modules/linear_model.html#logistic-regression\n",
      "  n_iter_i = _check_optimize_result(\n",
      "/Users/erictran/miniforge3/lib/python3.9/site-packages/sklearn/linear_model/_logistic.py:458: ConvergenceWarning: lbfgs failed to converge (status=1):\n",
      "STOP: TOTAL NO. of ITERATIONS REACHED LIMIT.\n",
      "\n",
      "Increase the number of iterations (max_iter) or scale the data as shown in:\n",
      "    https://scikit-learn.org/stable/modules/preprocessing.html\n",
      "Please also refer to the documentation for alternative solver options:\n",
      "    https://scikit-learn.org/stable/modules/linear_model.html#logistic-regression\n",
      "  n_iter_i = _check_optimize_result(\n",
      "/Users/erictran/miniforge3/lib/python3.9/site-packages/sklearn/linear_model/_logistic.py:458: ConvergenceWarning: lbfgs failed to converge (status=1):\n",
      "STOP: TOTAL NO. of ITERATIONS REACHED LIMIT.\n",
      "\n",
      "Increase the number of iterations (max_iter) or scale the data as shown in:\n",
      "    https://scikit-learn.org/stable/modules/preprocessing.html\n",
      "Please also refer to the documentation for alternative solver options:\n",
      "    https://scikit-learn.org/stable/modules/linear_model.html#logistic-regression\n",
      "  n_iter_i = _check_optimize_result(\n",
      "/Users/erictran/miniforge3/lib/python3.9/site-packages/sklearn/linear_model/_logistic.py:458: ConvergenceWarning: lbfgs failed to converge (status=1):\n",
      "STOP: TOTAL NO. of ITERATIONS REACHED LIMIT.\n",
      "\n",
      "Increase the number of iterations (max_iter) or scale the data as shown in:\n",
      "    https://scikit-learn.org/stable/modules/preprocessing.html\n",
      "Please also refer to the documentation for alternative solver options:\n",
      "    https://scikit-learn.org/stable/modules/linear_model.html#logistic-regression\n",
      "  n_iter_i = _check_optimize_result(\n",
      "/Users/erictran/miniforge3/lib/python3.9/site-packages/sklearn/linear_model/_logistic.py:458: ConvergenceWarning: lbfgs failed to converge (status=1):\n",
      "STOP: TOTAL NO. of ITERATIONS REACHED LIMIT.\n",
      "\n",
      "Increase the number of iterations (max_iter) or scale the data as shown in:\n",
      "    https://scikit-learn.org/stable/modules/preprocessing.html\n",
      "Please also refer to the documentation for alternative solver options:\n",
      "    https://scikit-learn.org/stable/modules/linear_model.html#logistic-regression\n",
      "  n_iter_i = _check_optimize_result(\n",
      "/Users/erictran/miniforge3/lib/python3.9/site-packages/sklearn/linear_model/_logistic.py:458: ConvergenceWarning: lbfgs failed to converge (status=1):\n",
      "STOP: TOTAL NO. of ITERATIONS REACHED LIMIT.\n",
      "\n",
      "Increase the number of iterations (max_iter) or scale the data as shown in:\n",
      "    https://scikit-learn.org/stable/modules/preprocessing.html\n",
      "Please also refer to the documentation for alternative solver options:\n",
      "    https://scikit-learn.org/stable/modules/linear_model.html#logistic-regression\n",
      "  n_iter_i = _check_optimize_result(\n"
     ]
    },
    {
     "name": "stdout",
     "output_type": "stream",
     "text": [
      "\n",
      "Classification Report:\n",
      "               precision    recall  f1-score   support\n",
      "\n",
      "       False       0.76      0.90      0.82      5040\n",
      "        True       0.98      0.94      0.96     23260\n",
      "\n",
      "    accuracy                           0.93     28300\n",
      "   macro avg       0.87      0.92      0.89     28300\n",
      "weighted avg       0.94      0.93      0.93     28300\n",
      "\n",
      "\n",
      "Confusion Matrix:\n",
      " [[ 4554   486]\n",
      " [ 1449 21811]]\n",
      "\n",
      "Accuracy Score:  0.932\n"
     ]
    },
    {
     "data": {
      "image/png": "[encoded data removed]",
      "text/plain": [
       "<Figure size 921.6x432 with 1 Axes>"
      ]
     },
     "metadata": {},
     "output_type": "display_data"
    }
   ],
   "source": [
    "# Apply SMOTE for oversampling\n",
    "sm = SMOTE(sampling_strategy='minority')\n",
    "X_train_res, y_train_res = sm.fit_resample(X_train, y_train)\n",
    "\n",
    "# Display class distribution before and after oversampling\n",
    "unique_before, counts_before = np.unique(y_train, return_counts=True)\n",
    "print(\"Before oversampling:\")\n",
    "print(np.asarray((unique_before, counts_before)).T)\n",
    "unique_after, counts_after = np.unique(y_train_res, return_counts=True)\n",
    "print(\"After oversampling:\")\n",
    "print(np.asarray((unique_after, counts_after)).T)\n",
    "\n",
    "# Setup Logistic Regression with hyperparameter tuning\n",
    "LR = LogisticRegression()\n",
    "params = {'penalty': ['l1', 'l2'], 'C': [0.001, 0.01, 0.1, 1, 10, 100], 'max_iter': [100, 110, 120, 130, 140]}\n",
    "skf = StratifiedKFold(n_splits=10)\n",
    "LR_hyper = GridSearchCV(LR, param_grid=params, n_jobs=-1, cv=skf)\n",
    "\n",
    "# Fit the model on the oversampled data\n",
    "LR_hyper.fit(X_train_res, y_train_res)\n",
    "\n",
    "# Make predictions and evaluate the model\n",
    "y_pred = LR_hyper.predict(X_test)\n",
    "\n",
    "# Print classification report\n",
    "print('\\nClassification Report:\\n', classification_report(y_test, y_pred))\n",
    "\n",
    "# Print confusion matrix\n",
    "print('\\nConfusion Matrix:\\n', confusion_matrix(y_test, y_pred))\n",
    "\n",
    "# Print accuracy score\n",
    "accuracy = accuracy_score(y_test, y_pred)\n",
    "print('\\nAccuracy Score: ', accuracy.round(3))\n",
    "\n",
    "# Plot ROC curve\n",
    "model_roc_auc = roc_auc_score(y_test, LR_hyper.predict(X_test))\n",
    "fpr, tpr, thresholds = roc_curve(y_test, LR_hyper.predict_proba(X_test)[:,1])\n",
    "plt.figure(figsize=(12.8, 6))\n",
    "plt.plot(fpr, tpr, label='AUC = ' + str(model_roc_auc.round(4)))\n",
    "plt.plot([0, 1], [0, 1],'r--')\n",
    "plt.xlim([0.0, 1.0])\n",
    "plt.ylim([0.0, 1.05])\n",
    "plt.xlabel('False Positive Rate')\n",
    "plt.ylabel('True Positive Rate')\n",
    "plt.title('Receiver operating characteristic')\n",
    "plt.legend(loc='lower right')\n",
    "plt.show()"
   ]
  },
  {
   "cell_type": "code",
   "execution_count": 40,
   "id": "07b93d3d",
   "metadata": {},
   "outputs": [
    {
     "name": "stdout",
     "output_type": "stream",
     "text": [
      "Before oversampling:\n",
      "[[    0 14982]\n",
      " [    1 69917]]\n",
      "After oversampling:\n",
      "[[    0 69917]\n",
      " [    1 69917]]\n"
     ]
    }
   ],
   "source": [
    "# Display class distribution before and after oversampling\n",
    "unique_before, counts_before = np.unique(y_train, return_counts=True)\n",
    "print(\"Before oversampling:\")\n",
    "print(np.asarray((unique_before, counts_before)).T)\n",
    "unique_after, counts_after = np.unique(y_train_res, return_counts=True)\n",
    "print(\"After oversampling:\")\n",
    "print(np.asarray((unique_after, counts_after)).T)"
   ]
  },
  {
   "cell_type": "code",
   "execution_count": 41,
   "id": "bc754311",
   "metadata": {},
   "outputs": [],
   "source": [
    "# Setup Logistic Regression with hyperparameter tuning\n",
    "LR = LogisticRegression()\n",
    "params = {'penalty': ['l1', 'l2'], 'C': [0.001, 0.01, 0.1, 1, 10, 100], 'max_iter': [100, 110, 120, 130, 140]}\n",
    "skf = StratifiedKFold(n_splits=10)\n",
    "LR_hyper = GridSearchCV(LR, param_grid=params, n_jobs=-1, cv=skf)"
   ]
  },
  {
   "cell_type": "code",
   "execution_count": 42,
   "id": "81dba765",
   "metadata": {},
   "outputs": [
    {
     "name": "stderr",
     "output_type": "stream",
     "text": [
      "/Users/erictran/miniforge3/lib/python3.9/site-packages/sklearn/linear_model/_logistic.py:458: ConvergenceWarning: lbfgs failed to converge (status=1):\n",
      "STOP: TOTAL NO. of ITERATIONS REACHED LIMIT.\n",
      "\n",
      "Increase the number of iterations (max_iter) or scale the data as shown in:\n",
      "    https://scikit-learn.org/stable/modules/preprocessing.html\n",
      "Please also refer to the documentation for alternative solver options:\n",
      "    https://scikit-learn.org/stable/modules/linear_model.html#logistic-regression\n",
      "  n_iter_i = _check_optimize_result(\n",
      "/Users/erictran/miniforge3/lib/python3.9/site-packages/sklearn/linear_model/_logistic.py:458: ConvergenceWarning: lbfgs failed to converge (status=1):\n",
      "STOP: TOTAL NO. of ITERATIONS REACHED LIMIT.\n",
      "\n",
      "Increase the number of iterations (max_iter) or scale the data as shown in:\n",
      "    https://scikit-learn.org/stable/modules/preprocessing.html\n",
      "Please also refer to the documentation for alternative solver options:\n",
      "    https://scikit-learn.org/stable/modules/linear_model.html#logistic-regression\n",
      "  n_iter_i = _check_optimize_result(\n",
      "/Users/erictran/miniforge3/lib/python3.9/site-packages/sklearn/linear_model/_logistic.py:458: ConvergenceWarning: lbfgs failed to converge (status=1):\n",
      "STOP: TOTAL NO. of ITERATIONS REACHED LIMIT.\n",
      "\n",
      "Increase the number of iterations (max_iter) or scale the data as shown in:\n",
      "    https://scikit-learn.org/stable/modules/preprocessing.html\n",
      "Please also refer to the documentation for alternative solver options:\n",
      "    https://scikit-learn.org/stable/modules/linear_model.html#logistic-regression\n",
      "  n_iter_i = _check_optimize_result(\n",
      "/Users/erictran/miniforge3/lib/python3.9/site-packages/sklearn/linear_model/_logistic.py:458: ConvergenceWarning: lbfgs failed to converge (status=1):\n",
      "STOP: TOTAL NO. of ITERATIONS REACHED LIMIT.\n",
      "\n",
      "Increase the number of iterations (max_iter) or scale the data as shown in:\n",
      "    https://scikit-learn.org/stable/modules/preprocessing.html\n",
      "Please also refer to the documentation for alternative solver options:\n",
      "    https://scikit-learn.org/stable/modules/linear_model.html#logistic-regression\n",
      "  n_iter_i = _check_optimize_result(\n",
      "/Users/erictran/miniforge3/lib/python3.9/site-packages/sklearn/linear_model/_logistic.py:458: ConvergenceWarning: lbfgs failed to converge (status=1):\n",
      "STOP: TOTAL NO. of ITERATIONS REACHED LIMIT.\n",
      "\n",
      "Increase the number of iterations (max_iter) or scale the data as shown in:\n",
      "    https://scikit-learn.org/stable/modules/preprocessing.html\n",
      "Please also refer to the documentation for alternative solver options:\n",
      "    https://scikit-learn.org/stable/modules/linear_model.html#logistic-regression\n",
      "  n_iter_i = _check_optimize_result(\n",
      "/Users/erictran/miniforge3/lib/python3.9/site-packages/sklearn/linear_model/_logistic.py:458: ConvergenceWarning: lbfgs failed to converge (status=1):\n",
      "STOP: TOTAL NO. of ITERATIONS REACHED LIMIT.\n",
      "\n",
      "Increase the number of iterations (max_iter) or scale the data as shown in:\n",
      "    https://scikit-learn.org/stable/modules/preprocessing.html\n",
      "Please also refer to the documentation for alternative solver options:\n",
      "    https://scikit-learn.org/stable/modules/linear_model.html#logistic-regression\n",
      "  n_iter_i = _check_optimize_result(\n",
      "/Users/erictran/miniforge3/lib/python3.9/site-packages/sklearn/linear_model/_logistic.py:458: ConvergenceWarning: lbfgs failed to converge (status=1):\n",
      "STOP: TOTAL NO. of ITERATIONS REACHED LIMIT.\n",
      "\n",
      "Increase the number of iterations (max_iter) or scale the data as shown in:\n",
      "    https://scikit-learn.org/stable/modules/preprocessing.html\n",
      "Please also refer to the documentation for alternative solver options:\n",
      "    https://scikit-learn.org/stable/modules/linear_model.html#logistic-regression\n",
      "  n_iter_i = _check_optimize_result(\n",
      "/Users/erictran/miniforge3/lib/python3.9/site-packages/sklearn/linear_model/_logistic.py:458: ConvergenceWarning: lbfgs failed to converge (status=1):\n",
      "STOP: TOTAL NO. of ITERATIONS REACHED LIMIT.\n",
      "\n",
      "Increase the number of iterations (max_iter) or scale the data as shown in:\n",
      "    https://scikit-learn.org/stable/modules/preprocessing.html\n",
      "Please also refer to the documentation for alternative solver options:\n",
      "    https://scikit-learn.org/stable/modules/linear_model.html#logistic-regression\n",
      "  n_iter_i = _check_optimize_result(\n"
     ]
    }
   ],
   "source": [
    "# Fit the model on the oversampled data\n",
    "LR_hyper.fit(X_train_res, y_train_res)\n",
    "\n",
    "# Make predictions and evaluate the model\n",
    "y_pred = LR_hyper.predict(X_test)"
   ]
  },
  {
   "cell_type": "code",
   "execution_count": 43,
   "id": "98d2863a",
   "metadata": {},
   "outputs": [
    {
     "name": "stdout",
     "output_type": "stream",
     "text": [
      "\n",
      "Classification Report:\n",
      "               precision    recall  f1-score   support\n",
      "\n",
      "       False       0.76      0.90      0.82      5040\n",
      "        True       0.98      0.94      0.96     23260\n",
      "\n",
      "    accuracy                           0.93     28300\n",
      "   macro avg       0.87      0.92      0.89     28300\n",
      "weighted avg       0.94      0.93      0.93     28300\n",
      "\n",
      "\n",
      "Confusion Matrix:\n",
      " [[ 4554   486]\n",
      " [ 1449 21811]]\n",
      "\n",
      "Accuracy Score:  0.932\n"
     ]
    }
   ],
   "source": [
    "# Print classification report\n",
    "print('\\nClassification Report:\\n', classification_report(y_test, y_pred))\n",
    "\n",
    "# Print confusion matrix\n",
    "print('\\nConfusion Matrix:\\n', confusion_matrix(y_test, y_pred))\n",
    "\n",
    "# Print accuracy score\n",
    "accuracy = accuracy_score(y_test, y_pred)\n",
    "print('\\nAccuracy Score: ', accuracy.round(3))"
   ]
  },
  {
   "cell_type": "code",
   "execution_count": 44,
   "id": "4e94f52f",
   "metadata": {},
   "outputs": [
    {
     "data": {
      "image/png": "[encoded data removed]",
      "text/plain": [
       "<Figure size 921.6x432 with 1 Axes>"
      ]
     },
     "metadata": {},
     "output_type": "display_data"
    }
   ],
   "source": [
    "# Plot ROC curve\n",
    "model_roc_auc = roc_auc_score(y_test, LR_hyper.predict(X_test))\n",
    "fpr, tpr, thresholds = roc_curve(y_test, LR_hyper.predict_proba(X_test)[:,1])\n",
    "plt.figure(figsize=(12.8, 6))\n",
    "plt.plot(fpr, tpr, label='AUC = ' + str(model_roc_auc.round(4)))\n",
    "plt.plot([0, 1], [0, 1],'r--')\n",
    "plt.xlim([0.0, 1.0])\n",
    "plt.ylim([0.0, 1.05])\n",
    "plt.xlabel('False Positive Rate')\n",
    "plt.ylabel('True Positive Rate')\n",
    "plt.title('Receiver operating characteristic')\n",
    "plt.legend(loc='lower right')\n",
    "plt.show()"
   ]
  },
  {
   "cell_type": "markdown",
   "id": "53beb947",
   "metadata": {},
   "source": [
    "### Clustering Models"
   ]
  },
  {
   "cell_type": "markdown",
   "id": "1eb1ca14",
   "metadata": {},
   "source": [
    "### Model 3:  K-Means Clustering Model"
   ]
  },
  {
   "cell_type": "code",
   "execution_count": 45,
   "id": "90e76834",
   "metadata": {},
   "outputs": [],
   "source": [
    "# Selecting features similar to those used for classification\n",
    "selected_features = ['reassignment_count', 'reopen_count', 'sys_mod_count']  # Modify as needed"
   ]
  },
  {
   "cell_type": "code",
   "execution_count": 46,
   "id": "cdf267f7",
   "metadata": {},
   "outputs": [],
   "source": [
    "# Extracting the features for clustering\n",
    "features_for_clustering = incident_data[selected_features]"
   ]
  },
  {
   "cell_type": "code",
   "execution_count": 47,
   "id": "cf9006a7",
   "metadata": {},
   "outputs": [],
   "source": [
    "# Scaling the features\n",
    "scaler = StandardScaler()\n",
    "scaled_features = scaler.fit_transform(features_for_clustering)"
   ]
  },
  {
   "cell_type": "code",
   "execution_count": 48,
   "id": "432c1598",
   "metadata": {},
   "outputs": [],
   "source": [
    "# Determining the optimal number of clusters using the Elbow Method\n",
    "inertia = []\n",
    "for k in range(1, 11):\n",
    "    kmeans = KMeans(n_clusters=k, random_state=42)\n",
    "    kmeans.fit(scaled_features)\n",
    "    inertia.append(kmeans.inertia_)"
   ]
  },
  {
   "cell_type": "code",
   "execution_count": 49,
   "id": "775e1b33",
   "metadata": {},
   "outputs": [
    {
     "data": {
      "image/png": "[encoded data removed]",
      "text/plain": [
       "<Figure size 864x432 with 1 Axes>"
      ]
     },
     "metadata": {},
     "output_type": "display_data"
    }
   ],
   "source": [
    "# Plotting the Elbow Method graph\n",
    "plt.figure(figsize=(12, 6))\n",
    "plt.plot(range(1, 11), inertia, marker='o')\n",
    "plt.title('Elbow Method')\n",
    "plt.xlabel('Number of clusters')\n",
    "plt.ylabel('Inertia')\n",
    "plt.show()"
   ]
  },
  {
   "cell_type": "code",
   "execution_count": 50,
   "id": "5cf6d48e",
   "metadata": {},
   "outputs": [],
   "source": [
    "# Choose an optimal number of clusters (e.g., 3) based on the Elbow plot\n",
    "optimal_k = 3  # Modify based on your observation"
   ]
  },
  {
   "cell_type": "code",
   "execution_count": 51,
   "id": "81f85d76",
   "metadata": {},
   "outputs": [],
   "source": [
    "# Apply K-Means with the chosen number of clusters\n",
    "kmeans = KMeans(n_clusters=optimal_k, random_state=42)\n",
    "kmeans.fit(scaled_features)\n",
    "\n",
    "# Assigning cluster labels to each data point\n",
    "cluster_labels = kmeans.labels_"
   ]
  },
  {
   "cell_type": "code",
   "execution_count": 52,
   "id": "3cd8655a",
   "metadata": {},
   "outputs": [
    {
     "name": "stdout",
     "output_type": "stream",
     "text": [
      "Cluster\n",
      "1    67744\n",
      "0    44004\n",
      "2    29751\n",
      "Name: count, dtype: int64\n"
     ]
    }
   ],
   "source": [
    "# Adding cluster labels to the original DataFrame\n",
    "incident_data['Cluster'] = cluster_labels\n",
    "\n",
    "# You can then proceed with analyzing the clusters\n",
    "# For example, checking the count of data points in each cluster\n",
    "cluster_counts = incident_data['Cluster'].value_counts()\n",
    "print(cluster_counts)"
   ]
  },
  {
   "cell_type": "markdown",
   "id": "ab845c20",
   "metadata": {},
   "source": [
    "#### Explanation for K-Means Clustering Model\n",
    "\n",
    "The K-Means clustering result indicates that the dataset has been divided into three distinct clusters based on similarities in their features. Cluster 1, the largest group, contains 120,130 incidents, suggesting common patterns among the majority of incidents. Cluster 0, with 19,268 incidents, and Cluster 2, the smallest with 2,314 incidents, represent smaller, more distinct groupings. These clusters reveal the underlying structure of the incident data, highlighting groups of incidents with shared characteristics, which could be crucial for targeted analysis or resource allocation."
   ]
  },
  {
   "cell_type": "markdown",
   "id": "966158d1",
   "metadata": {},
   "source": [
    "### Model 4: Hierarchical Clustering"
   ]
  },
  {
   "cell_type": "code",
   "execution_count": 53,
   "id": "6b7d1362",
   "metadata": {},
   "outputs": [],
   "source": [
    "# Sample a subset of the data for clustering to reduce computational load\n",
    "sampled_data = incident_data.sample(frac=0.1, random_state=42)  # Adjust the fraction as needed\n",
    "\n",
    "# Selecting features\n",
    "selected_features = ['reassignment_count', 'reopen_count', 'sys_mod_count']  # Modify as needed"
   ]
  },
  {
   "cell_type": "code",
   "execution_count": 54,
   "id": "69ef221b",
   "metadata": {},
   "outputs": [],
   "source": [
    "# Extracting the features for clustering\n",
    "features_for_clustering = sampled_data[selected_features]\n",
    "\n",
    "# Scaling the features\n",
    "scaler = StandardScaler()\n",
    "scaled_features = scaler.fit_transform(features_for_clustering)"
   ]
  },
  {
   "cell_type": "code",
   "execution_count": 55,
   "id": "c77cfa0c",
   "metadata": {},
   "outputs": [],
   "source": [
    "# Assume an optimal number of clusters (e.g., 3)\n",
    "optimal_clusters = 3"
   ]
  },
  {
   "cell_type": "code",
   "execution_count": 56,
   "id": "06ea3101",
   "metadata": {},
   "outputs": [],
   "source": [
    "# Apply Hierarchical Clustering with the chosen number of clusters\n",
    "hc = AgglomerativeClustering(n_clusters=optimal_clusters, affinity='euclidean', linkage='ward')\n",
    "cluster_labels = hc.fit_predict(scaled_features)"
   ]
  },
  {
   "cell_type": "code",
   "execution_count": 57,
   "id": "67852826",
   "metadata": {},
   "outputs": [
    {
     "name": "stdout",
     "output_type": "stream",
     "text": [
      "Silhouette Score for 3 clusters: 0.52\n"
     ]
    }
   ],
   "source": [
    "# Evaluating the clustering performance using silhouette score\n",
    "silhouette_avg = silhouette_score(scaled_features, cluster_labels)\n",
    "print(f'Silhouette Score for {optimal_clusters} clusters: {silhouette_avg:.2f}')"
   ]
  },
  {
   "cell_type": "code",
   "execution_count": 58,
   "id": "bb6cc080",
   "metadata": {},
   "outputs": [],
   "source": [
    "# Adding cluster labels to the sampled DataFrame\n",
    "sampled_data['HCluster'] = cluster_labels"
   ]
  },
  {
   "cell_type": "code",
   "execution_count": 59,
   "id": "85895fae",
   "metadata": {
    "scrolled": false
   },
   "outputs": [
    {
     "data": {
      "image/png": "[encoded data removed]",
      "text/plain": [
       "<Figure size 432x288 with 1 Axes>"
      ]
     },
     "metadata": {},
     "output_type": "display_data"
    }
   ],
   "source": [
    "# Visualizing the clusters\n",
    "sns.scatterplot(data=sampled_data, x='reassignment_count', y='reopen_count', hue='HCluster', palette='viridis')\n",
    "plt.title('Hierarchical Clustering of Incidents (Sampled Data)')\n",
    "plt.show()"
   ]
  },
  {
   "cell_type": "code",
   "execution_count": 60,
   "id": "b0b052d9",
   "metadata": {
    "scrolled": false
   },
   "outputs": [
    {
     "name": "stdout",
     "output_type": "stream",
     "text": [
      "HCluster\n",
      "1    8494\n",
      "0    3477\n",
      "2    2179\n",
      "Name: count, dtype: int64\n"
     ]
    }
   ],
   "source": [
    "# Cluster distribution\n",
    "print(sampled_data['HCluster'].value_counts())"
   ]
  },
  {
   "cell_type": "markdown",
   "id": "3a9d0ec8",
   "metadata": {},
   "source": [
    "### Other Evaluation Criteria: Innovative Model"
   ]
  },
  {
   "cell_type": "code",
   "execution_count": 61,
   "id": "ef51b829",
   "metadata": {},
   "outputs": [],
   "source": [
    "# Feature scaling => Program won't be crashed when exec\n",
    "scaler = StandardScaler()\n",
    "X_scaled = scaler.fit_transform(X)"
   ]
  },
  {
   "cell_type": "code",
   "execution_count": 62,
   "id": "dc95d2f9",
   "metadata": {},
   "outputs": [],
   "source": [
    "# Feature Engineering with lower degree\n",
    "poly = PolynomialFeatures(degree=1, include_bias=False)\n",
    "X_poly = poly.fit_transform(X)"
   ]
  },
  {
   "cell_type": "code",
   "execution_count": 63,
   "id": "3f7b7d52",
   "metadata": {},
   "outputs": [],
   "source": [
    "# Define base models with simpler settings\n",
    "models = {\n",
    "    'Logistic Regression': LogisticRegression(max_iter=100),\n",
    "    'K-Nearest Neighbors': KNeighborsClassifier(n_neighbors=3),\n",
    "    'Random Forest': RandomForestClassifier(n_estimators=50, max_depth=3, n_jobs=-1),\n",
    "    'Gradient Boosting': GradientBoostingClassifier(n_estimators=50, max_depth=2)\n",
    "}"
   ]
  },
  {
   "cell_type": "code",
   "execution_count": 64,
   "id": "68ddfd5a",
   "metadata": {},
   "outputs": [
    {
     "name": "stdout",
     "output_type": "stream",
     "text": [
      "Logistic Regression accuracy: 0.961\n",
      "K-Nearest Neighbors accuracy: 0.946\n",
      "Random Forest accuracy: 0.976\n",
      "Gradient Boosting accuracy: 1.0\n",
      "SVM accuracy: 0.964\n"
     ]
    }
   ],
   "source": [
    "# Train and validate each model except SVM\n",
    "for name, model in models.items():\n",
    "    model.fit(X_train, y_train)\n",
    "    accuracy = model.score(X_test, y_test)\n",
    "    print(f'{name} accuracy: {accuracy.round(3)}')\n",
    "    \n",
    "# SVM Model: Using a subset of the data to reduce computational time\n",
    "svm_model = make_pipeline(StandardScaler(), SVC(probability=True, kernel='linear', cache_size=500))\n",
    "svm_sample_size = int(0.2 * len(X_train))  # 20% of the training data\n",
    "svm_X_train_sample = X_train[:svm_sample_size]\n",
    "svm_y_train_sample = y_train[:svm_sample_size]\n",
    "\n",
    "svm_model.fit(svm_X_train_sample, svm_y_train_sample)\n",
    "svm_accuracy = svm_model.score(X_test, y_test)\n",
    "print('SVM accuracy:', svm_accuracy.round(3))"
   ]
  },
  {
   "cell_type": "code",
   "execution_count": 65,
   "id": "e41777ae",
   "metadata": {},
   "outputs": [],
   "source": [
    "# Blending predictions\n",
    "predictions = np.column_stack([\n",
    "    model.predict_proba(X_test)[:, 1] for model in models.values()\n",
    "] + [svm_model.predict_proba(X_test)[:, 1]])"
   ]
  },
  {
   "cell_type": "code",
   "execution_count": 66,
   "id": "649cac92",
   "metadata": {},
   "outputs": [],
   "source": [
    "# Custom weights based on validation performance\n",
    "weights = [0.25, 0.25, 0.25, 0.15, 0.1]  # Adjust based on model performance\n",
    "blended_predictions = np.average(predictions, axis=1, weights=weights)"
   ]
  },
  {
   "cell_type": "code",
   "execution_count": 67,
   "id": "d5079a3c",
   "metadata": {},
   "outputs": [],
   "source": [
    "# Post-processing: Apply threshold\n",
    "final_predictions = (blended_predictions > 0.5).astype(int)"
   ]
  },
  {
   "cell_type": "code",
   "execution_count": 68,
   "id": "b5c863fa",
   "metadata": {
    "scrolled": true
   },
   "outputs": [
    {
     "name": "stdout",
     "output_type": "stream",
     "text": [
      "Final Model Accuracy: 0.981\n",
      "              precision    recall  f1-score   support\n",
      "\n",
      "       False       0.99      0.90      0.94      5040\n",
      "        True       0.98      1.00      0.99     23260\n",
      "\n",
      "    accuracy                           0.98     28300\n",
      "   macro avg       0.99      0.95      0.97     28300\n",
      "weighted avg       0.98      0.98      0.98     28300\n",
      "\n"
     ]
    }
   ],
   "source": [
    "# Evaluate the final ensemble model\n",
    "print('Final Model Accuracy:', accuracy_score(y_test, final_predictions).round(3))\n",
    "print(classification_report(y_test, final_predictions))"
   ]
  }
 ],
 "metadata": {
  "kernelspec": {
   "display_name": "Python 3 (ipykernel)",
   "language": "python",
   "name": "python3"
  },
  "language_info": {
   "codemirror_mode": {
    "name": "ipython",
    "version": 3
   },
   "file_extension": ".py",
   "mimetype": "text/x-python",
   "name": "python",
   "nbconvert_exporter": "python",
   "pygments_lexer": "ipython3",
   "version": "3.9.10"
  }
 },
 "nbformat": 4,
 "nbformat_minor": 5
}
