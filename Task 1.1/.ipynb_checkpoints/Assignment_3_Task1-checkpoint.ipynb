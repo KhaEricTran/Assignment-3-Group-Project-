{
 "cells": [
  {
   "cell_type": "markdown",
   "id": "bdadf167",
   "metadata": {},
   "source": [
    "# CLASSIFICATION\n",
    "\n",
    "**Data Description**: The csv contains data on 5000 customers. The data include customer demographic information (age, income, etc.), the customer's relationship with the bank (mortgage, securities account, etc.), and the customer response to the last personal loan campaign (Personal Loan). Among these 5000 customers, only 480 (= 9.6%) accepted the personal loan that was offered to them in the earlier campaign.\n",
    "\n",
    "**Domain**: Banking\n",
    "\n",
    "**Context**: This case is about a bank (Thera Bank) whose management wants to explore ways of converting its liability customers to personal loan customers (while retaining them as depositors). A campaign that the bank ran last year for liability customers showed a healthy conversion rate of over 9% success. This has encouraged the retail marketing department to devise campaigns with better target marketing to increase the success ratio with minimal budget.\n",
    "\n",
    "**Attribute Information**\n",
    "* 1. **`number`**: incident identifier (24,918 different values)\n",
    "* 2. **`incident state`**: eight levels controlling the incident management process transitions from opening until closing the case;\n",
    "* 3.  **`active`**: boolean attribute that shows whether the record is active or closed/canceled;\n",
    "* 4.  **`reassignment_count`**: number of times the incident has the group or the support analysts changed;\n",
    "* 5.  **`reopen_count`**: number of times the incident resolution was rejected by the caller;\n",
    "* 6.  **`sys_mod_count`**: number of incident updates until that moment;\n",
    "* 7.  **`made_sla`**: boolean attribute that shows whether the incident exceeded the target SLA;\n",
    "* 8.  **`caller_id`**: identifier of the user affected;\n",
    "* 9.  **`opened_by`**: identifier of the user who reported the incident;\n",
    "* 10. **`opened_at`**: incident user opening date and time;\n",
    "* 11. **`sys_created_by`**: identifier of the user who registered the incident;\n",
    "* 12. **`sys_created_at`**: incident system creation date and time;\n",
    "* 13. **`sys_updated_by`**: identifier of the user who updated the incident and generated the current log record;\n",
    "* 14. **`sys_updated_at`**: incident system update date and time;\n",
    "* 15. **`contact_type`**: categorical attribute that shows by what means the incident was reported;\n",
    "* 16. **`location`**: identifier of the location of the place affected;\n",
    "* 17. **`category`**: first-level description of the affected service;\n",
    "* 18. **`subcategory`**: second-level description of the affected service (related to the first level description, i.e., to category);\n",
    "* 19. **`u_symptom`**: description of the user perception about service availability;\n",
    "* 20. **`cmdb_ci`**: (confirmation item) identifier used to report the affected item (not mandatory);\n",
    "* 21. **`impact`**: description of the impact caused by the incident (values: 1â€“High; 2â€“Medium; 3â€“Low);\n",
    "* 22. **`urgency`**: description of the urgency informed by the user for the incident resolution (values: 1â€“High; 2â€“Medium; 3â€“Low);\n",
    "* 23. **`priority`**: calculated by the system based on 'impact' and 'urgency';\n",
    "* 24. **`assignment_group`**: identifier of the support group in charge of the incident;\n",
    "* 25. **`assigned_to`**: identifier of the user in charge of the incident;\n",
    "* 26. **`knowledge`**: boolean attribute that shows whether a knowledge base document was used to resolve the incident;\n",
    "* 27. **`u_priority_confirmation`**: boolean attribute that shows whether the priority field has been double-checked;\n",
    "* 28. **`notify`**: categorical attribute that shows whether notifications were generated for the incident;\n",
    "* 29. **`problem_id`**: identifier of the problem associated with the incident;\n",
    "* 30. **`rfc`**: (request for change) identifier of the change request associated with the incident;\n",
    "* 31. **`vendor`**: identifier of the vendor in charge of the incident;\n",
    "* 32. **`caused_by`**: identifier of the RFC responsible by the incident;\n",
    "* 33. **`close_code`**: identifier of the resolution of the incident;\n",
    "* 34. **`resolved_by`**: identifier of the user who resolved the incident;\n",
    "* 35. **`resolved_at`**: incident user resolution date and time (dependent variable);\n",
    "* 36. **`closed_at`**: incident user close date and time (dependent variable).\n",
    "\n",
    "**Learning Outcomes**\n",
    "* Exploratory Data Analysis\n",
    "* Preparing the data to train a model\n",
    "* Training and making predictions using a classification model\n",
    "* Model evaluatio"
   ]
  },
  {
   "cell_type": "code",
   "execution_count": 1,
   "id": "aaa8e3e2",
   "metadata": {},
   "outputs": [
    {
     "name": "stdout",
     "output_type": "stream",
     "text": [
      "Requirement already satisfied: imbalanced-learn in /Users/erictran/miniforge3/lib/python3.9/site-packages (0.11.0)\n",
      "Requirement already satisfied: scikit-learn>=1.0.2 in /Users/erictran/miniforge3/lib/python3.9/site-packages (from imbalanced-learn) (1.2.2)\n",
      "Requirement already satisfied: joblib>=1.1.1 in /Users/erictran/miniforge3/lib/python3.9/site-packages (from imbalanced-learn) (1.2.0)\n",
      "Requirement already satisfied: threadpoolctl>=2.0.0 in /Users/erictran/miniforge3/lib/python3.9/site-packages (from imbalanced-learn) (3.1.0)\n",
      "Requirement already satisfied: numpy>=1.17.3 in /Users/erictran/miniforge3/lib/python3.9/site-packages (from imbalanced-learn) (1.21.6)\n",
      "Requirement already satisfied: scipy>=1.5.0 in /Users/erictran/miniforge3/lib/python3.9/site-packages (from imbalanced-learn) (1.10.1)\n"
     ]
    }
   ],
   "source": [
    "!pip install -U imbalanced-learn\n",
    "\n",
    "# Importing packages - Pandas, Numpy, Seaborn, Scipy\n",
    "import pandas as pd, numpy as np, matplotlib.pyplot as plt, seaborn as sns, sys\n",
    "import matplotlib.style as style; style.use('fivethirtyeight')\n",
    "from scipy.stats import zscore, norm\n",
    "\n",
    "np.random.seed(0)\n",
    "\n",
    "# Modelling - LR, KNN, NB, Metrics\n",
    "from sklearn.metrics import classification_report, confusion_matrix, roc_auc_score, roc_curve, accuracy_score\n",
    "from sklearn.model_selection import train_test_split, GridSearchCV, StratifiedKFold\n",
    "from sklearn.linear_model import LogisticRegression\n",
    "from sklearn.neighbors import KNeighborsClassifier\n",
    "\n",
    "# Oversampling\n",
    "from imblearn.over_sampling import SMOTE\n",
    "\n",
    "# Suppress warnings\n",
    "import warnings; warnings.filterwarnings('ignore')\n",
    "pd.options.display.max_rows = 4000"
   ]
  },
  {
   "cell_type": "code",
   "execution_count": null,
   "id": "b4dfcadc",
   "metadata": {},
   "outputs": [],
   "source": [
    "# Reading the data as dataframe and print the first five rows\n",
    "bank = pd.read_csv('Bank_Personal_Loan_Modelling.csv')\n",
    "bank.head()"
   ]
  }
 ],
 "metadata": {
  "kernelspec": {
   "display_name": "Python 3 (ipykernel)",
   "language": "python",
   "name": "python3"
  },
  "language_info": {
   "codemirror_mode": {
    "name": "ipython",
    "version": 3
   },
   "file_extension": ".py",
   "mimetype": "text/x-python",
   "name": "python",
   "nbconvert_exporter": "python",
   "pygments_lexer": "ipython3",
   "version": "3.9.10"
  }
 },
 "nbformat": 4,
 "nbformat_minor": 5
}
