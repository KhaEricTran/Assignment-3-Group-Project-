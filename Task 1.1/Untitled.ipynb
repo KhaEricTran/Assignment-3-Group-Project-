{
 "cells": [
  {
   "cell_type": "markdown",
   "id": "3c3ca934",
   "metadata": {},
   "source": [
    "# CLASSIFICATION\n",
    "\n",
    "**Data Description**: The csv contains data on 5000 customers. The data include customer demographic information (age, income, etc.), the customer's relationship with the bank (mortgage, securities account, etc.), and the customer response to the last personal loan campaign (Personal Loan). Among these 5000 customers, only 480 (= 9.6%) accepted the personal loan that was offered to them in the earlier campaign.\n",
    "\n",
    "**Domain**: Banking\n",
    "\n",
    "**Context**: This case is about a bank (Thera Bank) whose management wants to explore ways of converting its liability customers to personal loan customers (while retaining them as depositors). A campaign that the bank ran last year for liability customers showed a healthy conversion rate of over 9% success. This has encouraged the retail marketing department to devise campaigns with better target marketing to increase the success ratio with minimal budget.\n",
    "\n",
    "**Attribute Information**\n",
    "* **`ID`**: Customer ID\n",
    "* **`Age`**: Customer's age in completed years\n",
    "* **`Experience`** : #years of professional experience\n",
    "* **`Income`**: Annual income of the customer (thousand dollars)\n",
    "* **`ZIP Code`**: Home Address ZIP code.\n",
    "* **`Family`**: Family size of the customer\n",
    "* **`CCAvg`**: Avg. spending on credit cards per month (thousand dollars)\n",
    "* **`Education`**: Education Level. 1: Undergrad; 2: Graduate; 3: Advanced/Professional\n",
    "* **`Mortgage`**: Value of house mortgage if any. (thousand dollars)\n",
    "* **`Personal Loan`**: Did this customer accept the personal loan offered in the last campaign?\n",
    "* **`Securities Account`**: Does the customer have a securities account with the bank?\n",
    "* **`CD Account`**: Does the customer have a certificate of deposit (CD) account with the bank?\n",
    "* **`Online`**: Does the customer use internet banking facilities?\n",
    "* **`Credit card`**: Does the customer use a credit card issued by bank\n",
    "\n",
    "**Learning Outcomes**\n",
    "* Exploratory Data Analysis\n",
    "* Preparing the data to train a model\n",
    "* Training and making predictions using a classification model\n",
    "* Model evaluatio"
   ]
  },
  {
   "cell_type": "code",
   "execution_count": 1,
   "id": "2f9b37d7",
   "metadata": {},
   "outputs": [
    {
     "name": "stdout",
     "output_type": "stream",
     "text": [
      "Requirement already satisfied: imbalanced-learn in /Users/erictran/miniforge3/lib/python3.9/site-packages (0.11.0)\n",
      "Requirement already satisfied: scikit-learn>=1.0.2 in /Users/erictran/miniforge3/lib/python3.9/site-packages (from imbalanced-learn) (1.2.2)\n",
      "Requirement already satisfied: joblib>=1.1.1 in /Users/erictran/miniforge3/lib/python3.9/site-packages (from imbalanced-learn) (1.2.0)\n",
      "Requirement already satisfied: threadpoolctl>=2.0.0 in /Users/erictran/miniforge3/lib/python3.9/site-packages (from imbalanced-learn) (3.1.0)\n",
      "Requirement already satisfied: numpy>=1.17.3 in /Users/erictran/miniforge3/lib/python3.9/site-packages (from imbalanced-learn) (1.21.6)\n",
      "Requirement already satisfied: scipy>=1.5.0 in /Users/erictran/miniforge3/lib/python3.9/site-packages (from imbalanced-learn) (1.10.1)\n"
     ]
    }
   ],
   "source": [
    "!pip install -U imbalanced-learn\n",
    "\n",
    "# Importing packages - Pandas, Numpy, Seaborn, Scipy\n",
    "import pandas as pd, numpy as np, matplotlib.pyplot as plt, seaborn as sns, sys\n",
    "import matplotlib.style as style; style.use('fivethirtyeight')\n",
    "from scipy.stats import zscore, norm\n",
    "\n",
    "np.random.seed(0)\n",
    "\n",
    "# Modelling - LR, KNN, NB, Metrics\n",
    "from sklearn.metrics import classification_report, confusion_matrix, roc_auc_score, roc_curve, accuracy_score\n",
    "from sklearn.model_selection import train_test_split, GridSearchCV, StratifiedKFold\n",
    "from sklearn.linear_model import LogisticRegression\n",
    "from sklearn.neighbors import KNeighborsClassifier\n",
    "\n",
    "# Oversampling\n",
    "from imblearn.over_sampling import SMOTE\n",
    "\n",
    "# Suppress warnings\n",
    "import warnings; warnings.filterwarnings('ignore')\n",
    "pd.options.display.max_rows = 4000"
   ]
  },
  {
   "cell_type": "code",
   "execution_count": null,
   "id": "81527c34",
   "metadata": {},
   "outputs": [],
   "source": [
    "# Reading the data as dataframe and print the first five rows\n",
    "bank = pd.read_csv('Bank_Personal_Loan_Modelling.csv')\n",
    "bank.head()"
   ]
  }
 ],
 "metadata": {
  "kernelspec": {
   "display_name": "Python 3 (ipykernel)",
   "language": "python",
   "name": "python3"
  },
  "language_info": {
   "codemirror_mode": {
    "name": "ipython",
    "version": 3
   },
   "file_extension": ".py",
   "mimetype": "text/x-python",
   "name": "python",
   "nbconvert_exporter": "python",
   "pygments_lexer": "ipython3",
   "version": "3.9.10"
  }
 },
 "nbformat": 4,
 "nbformat_minor": 5
}
